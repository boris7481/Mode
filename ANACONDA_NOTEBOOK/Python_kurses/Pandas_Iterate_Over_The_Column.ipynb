{
 "cells": [
  {
   "cell_type": "code",
   "execution_count": 1,
   "id": "2a52d738",
   "metadata": {},
   "outputs": [],
   "source": [
    "import pandas as pd\n",
    "import numpy as np\n",
    "import matplotlib.pyplot as plt\n",
    "import seaborn as sns"
   ]
  },
  {
   "cell_type": "code",
   "execution_count": 2,
   "id": "fabc755f",
   "metadata": {},
   "outputs": [
    {
     "name": "stdout",
     "output_type": "stream",
     "text": [
      "   Courses    Fee Duration  Discount\n",
      "0    Spark  22000   30days    1000.0\n",
      "1  PySpark  25000   50days    2300.0\n",
      "2   Hadoop  23000   55days    1500.0\n"
     ]
    }
   ],
   "source": [
    "technologies = [\n",
    "            (\"Spark\", 22000,'30days',1000.0),\n",
    "            (\"PySpark\",25000,'50days',2300.0),\n",
    "            (\"Hadoop\",23000,'55days',1500.0)\n",
    "            ]\n",
    "df = pd.DataFrame(technologies,columns = ['Courses','Fee','Duration','Discount'])\n",
    "print(df)"
   ]
  },
  {
   "cell_type": "code",
   "execution_count": 3,
   "id": "1c424e2b",
   "metadata": {},
   "outputs": [
    {
     "data": {
      "text/html": [
       "<div>\n",
       "<style scoped>\n",
       "    .dataframe tbody tr th:only-of-type {\n",
       "        vertical-align: middle;\n",
       "    }\n",
       "\n",
       "    .dataframe tbody tr th {\n",
       "        vertical-align: top;\n",
       "    }\n",
       "\n",
       "    .dataframe thead th {\n",
       "        text-align: right;\n",
       "    }\n",
       "</style>\n",
       "<table border=\"1\" class=\"dataframe\">\n",
       "  <thead>\n",
       "    <tr style=\"text-align: right;\">\n",
       "      <th></th>\n",
       "      <th>Courses</th>\n",
       "      <th>Fee</th>\n",
       "      <th>Duration</th>\n",
       "      <th>Discount</th>\n",
       "    </tr>\n",
       "  </thead>\n",
       "  <tbody>\n",
       "    <tr>\n",
       "      <th>0</th>\n",
       "      <td>Spark</td>\n",
       "      <td>22000</td>\n",
       "      <td>30days</td>\n",
       "      <td>1000.0</td>\n",
       "    </tr>\n",
       "    <tr>\n",
       "      <th>1</th>\n",
       "      <td>PySpark</td>\n",
       "      <td>25000</td>\n",
       "      <td>50days</td>\n",
       "      <td>2300.0</td>\n",
       "    </tr>\n",
       "    <tr>\n",
       "      <th>2</th>\n",
       "      <td>Hadoop</td>\n",
       "      <td>23000</td>\n",
       "      <td>55days</td>\n",
       "      <td>1500.0</td>\n",
       "    </tr>\n",
       "  </tbody>\n",
       "</table>\n",
       "</div>"
      ],
      "text/plain": [
       "   Courses    Fee Duration  Discount\n",
       "0    Spark  22000   30days    1000.0\n",
       "1  PySpark  25000   50days    2300.0\n",
       "2   Hadoop  23000   55days    1500.0"
      ]
     },
     "execution_count": 3,
     "metadata": {},
     "output_type": "execute_result"
    }
   ],
   "source": [
    "df.head()"
   ]
  },
  {
   "cell_type": "markdown",
   "id": "97dc7e03",
   "metadata": {},
   "source": [
    "### Step 6: Display Top values for all numeric columns in DataFrame"
   ]
  },
  {
   "cell_type": "code",
   "execution_count": 4,
   "id": "1882fbea",
   "metadata": {},
   "outputs": [
    {
     "data": {
      "text/html": [
       "<div>\n",
       "<style scoped>\n",
       "    .dataframe tbody tr th:only-of-type {\n",
       "        vertical-align: middle;\n",
       "    }\n",
       "\n",
       "    .dataframe tbody tr th {\n",
       "        vertical-align: top;\n",
       "    }\n",
       "\n",
       "    .dataframe thead th {\n",
       "        text-align: right;\n",
       "    }\n",
       "</style>\n",
       "<table border=\"1\" class=\"dataframe\">\n",
       "  <thead>\n",
       "    <tr style=\"text-align: right;\">\n",
       "      <th></th>\n",
       "      <th>Fee</th>\n",
       "      <th>Discount</th>\n",
       "    </tr>\n",
       "  </thead>\n",
       "  <tbody>\n",
       "    <tr>\n",
       "      <th>0</th>\n",
       "      <td>25000</td>\n",
       "      <td>2300.0</td>\n",
       "    </tr>\n",
       "    <tr>\n",
       "      <th>1</th>\n",
       "      <td>23000</td>\n",
       "      <td>1500.0</td>\n",
       "    </tr>\n",
       "  </tbody>\n",
       "</table>\n",
       "</div>"
      ],
      "text/plain": [
       "     Fee  Discount\n",
       "0  25000    2300.0\n",
       "1  23000    1500.0"
      ]
     },
     "execution_count": 4,
     "metadata": {},
     "output_type": "execute_result"
    }
   ],
   "source": [
    "from pandas.api.types import is_numeric_dtype\n",
    "\n",
    "dfs = []\n",
    "\n",
    "for col in df.columns:\n",
    "    top_values = []\n",
    "    if is_numeric_dtype(df[col]):\n",
    "        top_values = df[col].nlargest(n=2)\n",
    "        dfs.append(pd.DataFrame({col: top_values}).reset_index(drop=True))\n",
    "        \n",
    "pd.concat(dfs, axis=1)\n"
   ]
  },
  {
   "cell_type": "markdown",
   "id": "1a06f883",
   "metadata": {},
   "source": [
    "### 1. Quick Examples of Iterate Over Columns in Pandas DataFrame"
   ]
  },
  {
   "cell_type": "code",
   "execution_count": 5,
   "id": "feaad501",
   "metadata": {},
   "outputs": [
    {
     "name": "stdout",
     "output_type": "stream",
     "text": [
      "0      Spark\n",
      "1    PySpark\n",
      "2     Hadoop\n",
      "Name: Courses, dtype: object\n",
      "0    22000\n",
      "1    25000\n",
      "2    23000\n",
      "Name: Fee, dtype: int64\n",
      "0    30days\n",
      "1    50days\n",
      "2    55days\n",
      "Name: Duration, dtype: object\n",
      "0    1000.0\n",
      "1    2300.0\n",
      "2    1500.0\n",
      "Name: Discount, dtype: float64\n"
     ]
    }
   ],
   "source": [
    "\n",
    "# Use getitem ([]) to iterate over columns\n",
    "for column in df:\n",
    "    print(df[column])"
   ]
  },
  {
   "cell_type": "code",
   "execution_count": 6,
   "id": "6d33fda2",
   "metadata": {},
   "outputs": [
    {
     "name": "stdout",
     "output_type": "stream",
     "text": [
      "['Spark' 'PySpark' 'Hadoop']\n",
      "[22000 25000 23000]\n",
      "['30days' '50days' '55days']\n",
      "[1000. 2300. 1500.]\n"
     ]
    }
   ],
   "source": [
    "# Use getitem ([]) to iterate over columns in pandas DataFrame\n",
    "for column in df:\n",
    "    print(df[column].values)"
   ]
  },
  {
   "cell_type": "markdown",
   "id": "ec3801e4",
   "metadata": {},
   "source": [
    "### 3. Iterate Over Columns Using DataFrame.iteritems()"
   ]
  },
  {
   "cell_type": "code",
   "execution_count": 7,
   "id": "cad81c1d",
   "metadata": {},
   "outputs": [
    {
     "name": "stdout",
     "output_type": "stream",
     "text": [
      "Courses ['Spark' 'PySpark' 'Hadoop']\n",
      "Fee [22000 25000 23000]\n",
      "Duration ['30days' '50days' '55days']\n",
      "Discount [1000. 2300. 1500.]\n"
     ]
    }
   ],
   "source": [
    "\n",
    "# Iterate over columns using DataFrame.iteritems()\n",
    "for (colname,colval) in df.iteritems():\n",
    "    print(colname, colval.values)"
   ]
  },
  {
   "cell_type": "code",
   "execution_count": 8,
   "id": "cc5bf2c6",
   "metadata": {},
   "outputs": [
    {
     "name": "stdout",
     "output_type": "stream",
     "text": [
      "Courses: PySpark\n",
      "Fee: 25000\n",
      "Duration: 50days\n",
      "Discount: 2300.0\n"
     ]
    }
   ],
   "source": [
    "\n",
    "# use iteritems()\n",
    "for name, values in df.iteritems():\n",
    "   print('{name}: {value}'.format(name=name, value=values[1])) \n"
   ]
  },
  {
   "cell_type": "markdown",
   "id": "5dc8fe04",
   "metadata": {},
   "source": [
    "### 4. Iterate Over Columns in DataFrame Using enumerate()"
   ]
  },
  {
   "cell_type": "code",
   "execution_count": 9,
   "id": "db4a24fe",
   "metadata": {},
   "outputs": [
    {
     "name": "stdout",
     "output_type": "stream",
     "text": [
      "0 ['Spark' 'PySpark' 'Hadoop']\n",
      "1 [22000 25000 23000]\n",
      "2 ['30days' '50days' '55days']\n",
      "3 [1000. 2300. 1500.]\n"
     ]
    }
   ],
   "source": [
    "\n",
    "# iterate over columns in pandas DataFrame using enumerate()\n",
    "for (index, colname) in enumerate(df):\n",
    "    print(index, df[colname].values)"
   ]
  },
  {
   "cell_type": "code",
   "execution_count": 10,
   "id": "6ae0f510",
   "metadata": {},
   "outputs": [
    {
     "name": "stdout",
     "output_type": "stream",
     "text": [
      "0 0      Spark\n",
      "1    PySpark\n",
      "2     Hadoop\n",
      "Name: Courses, dtype: object\n",
      "1 0    22000\n",
      "1    25000\n",
      "2    23000\n",
      "Name: Fee, dtype: int64\n",
      "2 0    30days\n",
      "1    50days\n",
      "2    55days\n",
      "Name: Duration, dtype: object\n",
      "3 0    1000.0\n",
      "1    2300.0\n",
      "2    1500.0\n",
      "Name: Discount, dtype: float64\n"
     ]
    }
   ],
   "source": [
    "# using enumerate()\n",
    "for (index, column) in enumerate(df):\n",
    "    print (index, df[column])"
   ]
  },
  {
   "cell_type": "code",
   "execution_count": 11,
   "id": "b4e37693",
   "metadata": {},
   "outputs": [
    {
     "name": "stdout",
     "output_type": "stream",
     "text": [
      "0 ['Spark' 'PySpark' 'Hadoop']\n",
      "1 [22000 25000 23000]\n",
      "2 ['30days' '50days' '55days']\n",
      "3 [1000. 2300. 1500.]\n"
     ]
    }
   ],
   "source": [
    "# using enumerate() & Numpy.asarray()\n",
    "for (index, column) in enumerate(df):\n",
    "    print (index, np.asarray(df[column]))\n"
   ]
  },
  {
   "cell_type": "markdown",
   "id": "9ed88179",
   "metadata": {},
   "source": [
    "### 5. Use DataFrame.columns() to Iterate Over Selected Columns"
   ]
  },
  {
   "cell_type": "code",
   "execution_count": 12,
   "id": "9ebca2bf",
   "metadata": {},
   "outputs": [
    {
     "name": "stdout",
     "output_type": "stream",
     "text": [
      "0    22000\n",
      "1    25000\n",
      "2    23000\n",
      "Name: Fee, dtype: int64\n",
      "0    30days\n",
      "1    50days\n",
      "2    55days\n",
      "Name: Duration, dtype: object\n",
      "0    1000.0\n",
      "1    2300.0\n",
      "2    1500.0\n",
      "Name: Discount, dtype: float64\n"
     ]
    }
   ],
   "source": [
    "\n",
    "# Use DataFrame.columns()\n",
    "for column in df.columns[1:]:\n",
    "    print(df[column])"
   ]
  },
  {
   "cell_type": "code",
   "execution_count": 13,
   "id": "177c6a24",
   "metadata": {},
   "outputs": [
    {
     "name": "stdout",
     "output_type": "stream",
     "text": [
      "0    1000.0\n",
      "1    2300.0\n",
      "2    1500.0\n",
      "Name: Discount, dtype: float64\n",
      "0    30days\n",
      "1    50days\n",
      "2    55days\n",
      "Name: Duration, dtype: object\n",
      "0    22000\n",
      "1    25000\n",
      "2    23000\n",
      "Name: Fee, dtype: int64\n",
      "0      Spark\n",
      "1    PySpark\n",
      "2     Hadoop\n",
      "Name: Courses, dtype: object\n"
     ]
    }
   ],
   "source": [
    "# Iterate over all the columns in reversed order    \n",
    "for column in df.columns[::-1]:\n",
    "    print(df[column])"
   ]
  },
  {
   "cell_type": "code",
   "execution_count": 14,
   "id": "e84ff32d",
   "metadata": {},
   "outputs": [
    {
     "name": "stdout",
     "output_type": "stream",
     "text": [
      "0 Courses\n",
      "1 Fee\n",
      "2 Duration\n",
      "3 Discount\n"
     ]
    }
   ],
   "source": [
    "# Get the indices of all columns\n",
    "for indix, column in enumerate(df.columns):\n",
    "    print(indix, column)"
   ]
  },
  {
   "cell_type": "markdown",
   "id": "8878a074",
   "metadata": {},
   "source": [
    "### 6. Use DataFrame.transpose().iterrows()"
   ]
  },
  {
   "cell_type": "code",
   "execution_count": 15,
   "id": "a6f5b93c",
   "metadata": {},
   "outputs": [
    {
     "name": "stdout",
     "output_type": "stream",
     "text": [
      "Courses\n",
      "Fee\n",
      "Duration\n",
      "Discount\n"
     ]
    }
   ],
   "source": [
    "# Use DataFrame.transpose().iterrows()\n",
    "for (column_name, column) in df.transpose().iterrows():\n",
    "    print (column_name)"
   ]
  },
  {
   "cell_type": "code",
   "execution_count": 16,
   "id": "9d971d2e",
   "metadata": {},
   "outputs": [
    {
     "name": "stdout",
     "output_type": "stream",
     "text": [
      "Courses 0      Spark\n",
      "1    PySpark\n",
      "2     Hadoop\n",
      "Name: Courses, dtype: object\n",
      "Fee 0    22000\n",
      "1    25000\n",
      "2    23000\n",
      "Name: Fee, dtype: object\n",
      "Duration 0    30days\n",
      "1    50days\n",
      "2    55days\n",
      "Name: Duration, dtype: object\n",
      "Discount 0    1000.0\n",
      "1    2300.0\n",
      "2    1500.0\n",
      "Name: Discount, dtype: object\n"
     ]
    }
   ],
   "source": [
    "# Use DataFrame.transpose().iterrows()\n",
    "for (column_name, column) in df.transpose().iterrows():\n",
    "    print (column_name , column)"
   ]
  },
  {
   "cell_type": "code",
   "execution_count": null,
   "id": "4dd22cd0",
   "metadata": {},
   "outputs": [],
   "source": []
  }
 ],
 "metadata": {
  "kernelspec": {
   "display_name": "Python 3 (ipykernel)",
   "language": "python",
   "name": "python3"
  },
  "language_info": {
   "codemirror_mode": {
    "name": "ipython",
    "version": 3
   },
   "file_extension": ".py",
   "mimetype": "text/x-python",
   "name": "python",
   "nbconvert_exporter": "python",
   "pygments_lexer": "ipython3",
   "version": "3.9.13"
  }
 },
 "nbformat": 4,
 "nbformat_minor": 5
}
