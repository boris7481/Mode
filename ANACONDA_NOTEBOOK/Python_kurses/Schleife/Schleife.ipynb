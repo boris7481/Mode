{
 "cells": [
  {
   "cell_type": "code",
   "execution_count": 1,
   "id": "e8050a13",
   "metadata": {},
   "outputs": [
    {
     "name": "stdout",
     "output_type": "stream",
     "text": [
      "0\n",
      "2\n",
      "4\n",
      "6\n",
      "8\n"
     ]
    }
   ],
   "source": [
    "for num in range(10):\n",
    "    if num%2 ==0:\n",
    "        print(num)"
   ]
  },
  {
   "cell_type": "code",
   "execution_count": 2,
   "id": "a73f33f0",
   "metadata": {},
   "outputs": [],
   "source": [
    "mystring = \" hello \""
   ]
  },
  {
   "cell_type": "code",
   "execution_count": 3,
   "id": "35a9d717",
   "metadata": {},
   "outputs": [],
   "source": [
    "my_list = []\n",
    "for letter in mystring:\n",
    "    my_list.append(letter)"
   ]
  },
  {
   "cell_type": "code",
   "execution_count": 4,
   "id": "514445e4",
   "metadata": {},
   "outputs": [
    {
     "data": {
      "text/plain": [
       "[' ', 'h', 'e', 'l', 'l', 'o', ' ']"
      ]
     },
     "execution_count": 4,
     "metadata": {},
     "output_type": "execute_result"
    }
   ],
   "source": [
    "my_list"
   ]
  },
  {
   "cell_type": "code",
   "execution_count": 6,
   "id": "cc1da170",
   "metadata": {},
   "outputs": [],
   "source": [
    "my_list_1 = [letter for letter in my_list]"
   ]
  },
  {
   "cell_type": "code",
   "execution_count": 7,
   "id": "ae72dfd7",
   "metadata": {},
   "outputs": [
    {
     "data": {
      "text/plain": [
       "[' ', 'h', 'e', 'l', 'l', 'o', ' ']"
      ]
     },
     "execution_count": 7,
     "metadata": {},
     "output_type": "execute_result"
    }
   ],
   "source": [
    "my_list_1"
   ]
  },
  {
   "cell_type": "code",
   "execution_count": 8,
   "id": "fb921ea8",
   "metadata": {},
   "outputs": [],
   "source": [
    "my_list_2 = [x for x in range(0,11)]"
   ]
  },
  {
   "cell_type": "code",
   "execution_count": 9,
   "id": "90e8861d",
   "metadata": {},
   "outputs": [
    {
     "data": {
      "text/plain": [
       "[0, 1, 2, 3, 4, 5, 6, 7, 8, 9, 10]"
      ]
     },
     "execution_count": 9,
     "metadata": {},
     "output_type": "execute_result"
    }
   ],
   "source": [
    "my_list_2"
   ]
  },
  {
   "cell_type": "code",
   "execution_count": 12,
   "id": "21f0a445",
   "metadata": {},
   "outputs": [],
   "source": [
    "def volume(r):\n",
    "    return (2/3)*(3.14)*(r)**3"
   ]
  },
  {
   "cell_type": "code",
   "execution_count": 13,
   "id": "258fb526",
   "metadata": {},
   "outputs": [
    {
     "data": {
      "text/plain": [
       "16746.666666666668"
      ]
     },
     "execution_count": 13,
     "metadata": {},
     "output_type": "execute_result"
    }
   ],
   "source": [
    "volume(20)"
   ]
  },
  {
   "cell_type": "code",
   "execution_count": 34,
   "id": "ad1a13a0",
   "metadata": {},
   "outputs": [
    {
     "name": "stdout",
     "output_type": "stream",
     "text": [
      "[0, 1, 4, 9, 16, 25, 36, 49, 64, 81]\n"
     ]
    }
   ],
   "source": [
    "# on commence par les \" listes comprehension \"\n",
    "# tous les carres de 0 a 9\n",
    "# une \"list comprehension\" consiste a inserer la boucle for a l interieur de la liste elle meme\n",
    "#\n",
    "liste_1 = []\n",
    "for i in range(10):\n",
    "    liste_1.append(i**2)\n",
    "print(liste_1)"
   ]
  },
  {
   "cell_type": "code",
   "execution_count": 35,
   "id": "0d989b74",
   "metadata": {},
   "outputs": [],
   "source": [
    "dictionaire = { \" 0 \" : \"pierre\",\n",
    "               \" 1 \" : \"jean\",\n",
    "               \" 2 \" : \"julle\",\n",
    "               \" 3 \" : \"boris\"}"
   ]
  },
  {
   "cell_type": "code",
   "execution_count": 36,
   "id": "ca43a462",
   "metadata": {},
   "outputs": [],
   "source": [
    "prenoms = [ \"pierre\" , \"jean\",  \"julle\",  \"boris\"]"
   ]
  },
  {
   "cell_type": "code",
   "execution_count": 37,
   "id": "5c8a5a68",
   "metadata": {},
   "outputs": [
    {
     "name": "stdout",
     "output_type": "stream",
     "text": [
      "{0: 'pierre', 1: 'jean', 2: 'julle', 3: 'boris'}\n"
     ]
    }
   ],
   "source": [
    "dico = {k : v for k, v in enumerate(prenoms)}\n",
    "print(dico) # pour que ce code fonctione il fallait tous sois ecris de la meme \n",
    "# maniere au niveau de dictionaire et de prenoms"
   ]
  },
  {
   "cell_type": "code",
   "execution_count": null,
   "id": "cc65db71",
   "metadata": {},
   "outputs": [],
   "source": []
  }
 ],
 "metadata": {
  "kernelspec": {
   "display_name": "Python 3 (ipykernel)",
   "language": "python",
   "name": "python3"
  },
  "language_info": {
   "codemirror_mode": {
    "name": "ipython",
    "version": 3
   },
   "file_extension": ".py",
   "mimetype": "text/x-python",
   "name": "python",
   "nbconvert_exporter": "python",
   "pygments_lexer": "ipython3",
   "version": "3.9.13"
  }
 },
 "nbformat": 4,
 "nbformat_minor": 5
}
