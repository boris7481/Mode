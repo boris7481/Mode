{
 "cells": [
  {
   "cell_type": "code",
   "execution_count": 1,
   "id": "c6ff623e",
   "metadata": {},
   "outputs": [
    {
     "name": "stdout",
     "output_type": "stream",
     "text": [
      "0\n",
      "2\n",
      "4\n",
      "6\n",
      "8\n"
     ]
    }
   ],
   "source": [
    "for num in range(10):\n",
    "    if num%2 ==0:\n",
    "        print(num)"
   ]
  },
  {
   "cell_type": "code",
   "execution_count": 2,
   "id": "e51405eb",
   "metadata": {},
   "outputs": [],
   "source": [
    "mystring = \" hello \""
   ]
  },
  {
   "cell_type": "code",
   "execution_count": 3,
   "id": "b316017d",
   "metadata": {},
   "outputs": [],
   "source": [
    "my_list = []\n",
    "for letter in mystring:\n",
    "    my_list.append(letter)"
   ]
  },
  {
   "cell_type": "code",
   "execution_count": 4,
   "id": "73fc7f21",
   "metadata": {},
   "outputs": [
    {
     "data": {
      "text/plain": [
       "[' ', 'h', 'e', 'l', 'l', 'o', ' ']"
      ]
     },
     "execution_count": 4,
     "metadata": {},
     "output_type": "execute_result"
    }
   ],
   "source": [
    "my_list"
   ]
  },
  {
   "cell_type": "code",
   "execution_count": 6,
   "id": "b59c9ccd",
   "metadata": {},
   "outputs": [],
   "source": [
    "my_list_1 = [letter for letter in my_list]"
   ]
  },
  {
   "cell_type": "code",
   "execution_count": 7,
   "id": "d6220f50",
   "metadata": {},
   "outputs": [
    {
     "data": {
      "text/plain": [
       "[' ', 'h', 'e', 'l', 'l', 'o', ' ']"
      ]
     },
     "execution_count": 7,
     "metadata": {},
     "output_type": "execute_result"
    }
   ],
   "source": [
    "my_list_1"
   ]
  },
  {
   "cell_type": "code",
   "execution_count": 8,
   "id": "163a8917",
   "metadata": {},
   "outputs": [],
   "source": [
    "my_list_2 = [x for x in range(0,11)]"
   ]
  },
  {
   "cell_type": "code",
   "execution_count": 9,
   "id": "d51276d7",
   "metadata": {},
   "outputs": [
    {
     "data": {
      "text/plain": [
       "[0, 1, 2, 3, 4, 5, 6, 7, 8, 9, 10]"
      ]
     },
     "execution_count": 9,
     "metadata": {},
     "output_type": "execute_result"
    }
   ],
   "source": [
    "my_list_2"
   ]
  },
  {
   "cell_type": "code",
   "execution_count": null,
   "id": "10d791d3",
   "metadata": {},
   "outputs": [],
   "source": []
  }
 ],
 "metadata": {
  "kernelspec": {
   "display_name": "Python 3 (ipykernel)",
   "language": "python",
   "name": "python3"
  },
  "language_info": {
   "codemirror_mode": {
    "name": "ipython",
    "version": 3
   },
   "file_extension": ".py",
   "mimetype": "text/x-python",
   "name": "python",
   "nbconvert_exporter": "python",
   "pygments_lexer": "ipython3",
   "version": "3.9.13"
  }
 },
 "nbformat": 4,
 "nbformat_minor": 5
}
