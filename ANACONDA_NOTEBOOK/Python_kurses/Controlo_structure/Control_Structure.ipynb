{
 "cells": [
  {
   "cell_type": "code",
   "execution_count": 1,
   "id": "170fe41f",
   "metadata": {},
   "outputs": [
    {
     "name": "stdout",
     "output_type": "stream",
     "text": [
      "1 est positif\n"
     ]
    }
   ],
   "source": [
    "x=1\n",
    "if x>0:\n",
    "    print(x, \"est positif\")"
   ]
  },
  {
   "cell_type": "code",
   "execution_count": 3,
   "id": "98c15525",
   "metadata": {},
   "outputs": [
    {
     "name": "stdout",
     "output_type": "stream",
     "text": [
      "2 ist nicht vorhanden\n"
     ]
    }
   ],
   "source": [
    "if 2 in liste:\n",
    " print(2, \"ist vorhanden\")\n",
    "else:\n",
    "    print(2,\"ist nicht vorhanden\")"
   ]
  },
  {
   "cell_type": "code",
   "execution_count": null,
   "id": "60b5aa8a",
   "metadata": {},
   "outputs": [],
   "source": []
  }
 ],
 "metadata": {
  "kernelspec": {
   "display_name": "Python 3 (ipykernel)",
   "language": "python",
   "name": "python3"
  },
  "language_info": {
   "codemirror_mode": {
    "name": "ipython",
    "version": 3
   },
   "file_extension": ".py",
   "mimetype": "text/x-python",
   "name": "python",
   "nbconvert_exporter": "python",
   "pygments_lexer": "ipython3",
   "version": "3.9.13"
  }
 },
 "nbformat": 4,
 "nbformat_minor": 5
}
