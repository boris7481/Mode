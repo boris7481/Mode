{
 "cells": [
  {
   "cell_type": "code",
   "execution_count": 1,
   "id": "f9abf417",
   "metadata": {},
   "outputs": [],
   "source": [
    "def say_hallo():\n",
    "    print(\"hello\")\n",
    "    print(\"my name\")\n",
    "    print(\"ist boris\")"
   ]
  },
  {
   "cell_type": "code",
   "execution_count": 2,
   "id": "ea3187ac",
   "metadata": {},
   "outputs": [
    {
     "name": "stdout",
     "output_type": "stream",
     "text": [
      "hello\n",
      "my name\n",
      "ist boris\n"
     ]
    }
   ],
   "source": [
    "say_hallo()"
   ]
  },
  {
   "cell_type": "code",
   "execution_count": 3,
   "id": "7191882d",
   "metadata": {},
   "outputs": [],
   "source": [
    "def say_hello(name):\n",
    "    print(f\"hello {name}\")"
   ]
  },
  {
   "cell_type": "code",
   "execution_count": 4,
   "id": "cdc2e7a6",
   "metadata": {},
   "outputs": [
    {
     "name": "stdout",
     "output_type": "stream",
     "text": [
      "hello boris\n"
     ]
    }
   ],
   "source": [
    "say_hello(\"boris\")"
   ]
  },
  {
   "cell_type": "code",
   "execution_count": 5,
   "id": "7d6bb7b2",
   "metadata": {},
   "outputs": [],
   "source": [
    "def say_hello(name = \"default\"):\n",
    "    print(f\"hello {name}\")"
   ]
  },
  {
   "cell_type": "code",
   "execution_count": 6,
   "id": "9d7b48f3",
   "metadata": {},
   "outputs": [
    {
     "name": "stdout",
     "output_type": "stream",
     "text": [
      "hello default\n"
     ]
    }
   ],
   "source": [
    "say_hello()"
   ]
  },
  {
   "cell_type": "code",
   "execution_count": 7,
   "id": "7b2233e9",
   "metadata": {},
   "outputs": [],
   "source": [
    "def add_num(num1 , num2):\n",
    "    return num1 + num2"
   ]
  },
  {
   "cell_type": "code",
   "execution_count": 8,
   "id": "d9f0e5fe",
   "metadata": {},
   "outputs": [
    {
     "data": {
      "text/plain": [
       "30"
      ]
     },
     "execution_count": 8,
     "metadata": {},
     "output_type": "execute_result"
    }
   ],
   "source": [
    "add_num(10,20)"
   ]
  },
  {
   "cell_type": "code",
   "execution_count": 10,
   "id": "70483511",
   "metadata": {},
   "outputs": [],
   "source": [
    "def even_check(number):\n",
    "    result = number%2 == 0\n",
    "    return result"
   ]
  },
  {
   "cell_type": "code",
   "execution_count": 11,
   "id": "cd7c1299",
   "metadata": {},
   "outputs": [
    {
     "data": {
      "text/plain": [
       "True"
      ]
     },
     "execution_count": 11,
     "metadata": {},
     "output_type": "execute_result"
    }
   ],
   "source": [
    "even_check(20)"
   ]
  },
  {
   "cell_type": "code",
   "execution_count": 12,
   "id": "5332bc34",
   "metadata": {},
   "outputs": [],
   "source": [
    "def even_check_1(number):\n",
    "    return number%2 == 0"
   ]
  },
  {
   "cell_type": "code",
   "execution_count": 13,
   "id": "ab19dcaf",
   "metadata": {},
   "outputs": [
    {
     "data": {
      "text/plain": [
       "True"
      ]
     },
     "execution_count": 13,
     "metadata": {},
     "output_type": "execute_result"
    }
   ],
   "source": [
    "even_check_1(20)"
   ]
  },
  {
   "cell_type": "code",
   "execution_count": 14,
   "id": "e21a7cd8",
   "metadata": {},
   "outputs": [],
   "source": [
    "def check_even_list(my_list):\n",
    "    for number in my_list:\n",
    "        if number%2 == 0:\n",
    "            return True\n",
    "        else:\n",
    "            pass\n",
    "    return False"
   ]
  },
  {
   "cell_type": "code",
   "execution_count": 15,
   "id": "5a0e6d2d",
   "metadata": {},
   "outputs": [
    {
     "data": {
      "text/plain": [
       "False"
      ]
     },
     "execution_count": 15,
     "metadata": {},
     "output_type": "execute_result"
    }
   ],
   "source": [
    "check_even_list([1, 3, 5])"
   ]
  },
  {
   "cell_type": "code",
   "execution_count": 16,
   "id": "3f469886",
   "metadata": {},
   "outputs": [
    {
     "data": {
      "text/plain": [
       "True"
      ]
     },
     "execution_count": 16,
     "metadata": {},
     "output_type": "execute_result"
    }
   ],
   "source": [
    "check_even_list([1, 4, 5])"
   ]
  },
  {
   "cell_type": "code",
   "execution_count": 17,
   "id": "e435be1b",
   "metadata": {},
   "outputs": [
    {
     "data": {
      "text/plain": [
       "True"
      ]
     },
     "execution_count": 17,
     "metadata": {},
     "output_type": "execute_result"
    }
   ],
   "source": [
    "check_even_list([2, 1, 5])"
   ]
  },
  {
   "cell_type": "code",
   "execution_count": 18,
   "id": "3135662a",
   "metadata": {},
   "outputs": [
    {
     "data": {
      "text/plain": [
       "True"
      ]
     },
     "execution_count": 18,
     "metadata": {},
     "output_type": "execute_result"
    }
   ],
   "source": [
    "check_even_list([1, 3, 6])"
   ]
  },
  {
   "cell_type": "code",
   "execution_count": 19,
   "id": "ac3fc4e4",
   "metadata": {},
   "outputs": [],
   "source": [
    "def check_even_list_2(my_list):\n",
    "    # return all the even number in a list\n",
    "    # create a plceholder\n",
    "    \n",
    "    eve_numbers = []\n",
    "    \n",
    "    for number in my_list:\n",
    "        if number%2 == 0:\n",
    "            eve_numbers.append(number)\n",
    "        \n",
    "    return eve_numbers"
   ]
  },
  {
   "cell_type": "code",
   "execution_count": 20,
   "id": "8cb157f6",
   "metadata": {},
   "outputs": [
    {
     "data": {
      "text/plain": [
       "[2, 4]"
      ]
     },
     "execution_count": 20,
     "metadata": {},
     "output_type": "execute_result"
    }
   ],
   "source": [
    "check_even_list_2([1, 2, 3, 4, 5])"
   ]
  },
  {
   "cell_type": "code",
   "execution_count": 21,
   "id": "3be04632",
   "metadata": {},
   "outputs": [
    {
     "data": {
      "text/plain": [
       "[]"
      ]
     },
     "execution_count": 21,
     "metadata": {},
     "output_type": "execute_result"
    }
   ],
   "source": [
    "check_even_list_2([1, 3, 5])"
   ]
  },
  {
   "cell_type": "markdown",
   "id": "a1a5a481",
   "metadata": {},
   "source": [
    "### Tuples"
   ]
  },
  {
   "cell_type": "code",
   "execution_count": 23,
   "id": "e8c97d10",
   "metadata": {},
   "outputs": [],
   "source": [
    "stock_prices =  [(\"APPL\", 200),(\"GOOG\", 400),(\"MSFT\", 100)]"
   ]
  },
  {
   "cell_type": "code",
   "execution_count": 24,
   "id": "14465953",
   "metadata": {},
   "outputs": [
    {
     "name": "stdout",
     "output_type": "stream",
     "text": [
      "('APPL', 200)\n",
      "('GOOG', 400)\n",
      "('MSFT', 100)\n"
     ]
    }
   ],
   "source": [
    "for item in stock_prices:\n",
    "    print(item)"
   ]
  },
  {
   "cell_type": "code",
   "execution_count": 25,
   "id": "07c4feb3",
   "metadata": {},
   "outputs": [
    {
     "name": "stdout",
     "output_type": "stream",
     "text": [
      "APPL\n",
      "GOOG\n",
      "MSFT\n"
     ]
    }
   ],
   "source": [
    "for ticker, price in stock_prices:\n",
    "    print(ticker)"
   ]
  },
  {
   "cell_type": "code",
   "execution_count": 26,
   "id": "4344efaf",
   "metadata": {},
   "outputs": [],
   "source": [
    "work_hours =  [(\"Abby\", 100),(\"Billy\", 4000),(\"Cassie\", 800)]"
   ]
  },
  {
   "cell_type": "code",
   "execution_count": 27,
   "id": "63db9068",
   "metadata": {},
   "outputs": [],
   "source": [
    "def employe_check(work_hours):\n",
    "    current_max = 0\n",
    "    employee_of_month = \"\"\n",
    "    \n",
    "    for enployee, hours in work_hours:\n",
    "        if hours > current_max:\n",
    "            current_max = hours\n",
    "            employee_of_month = enployee\n",
    "        else:\n",
    "            pass\n",
    "             \n",
    "    return (current_max , employee_of_month)"
   ]
  },
  {
   "cell_type": "code",
   "execution_count": 28,
   "id": "933313a3",
   "metadata": {},
   "outputs": [
    {
     "data": {
      "text/plain": [
       "(4000, 'Billy')"
      ]
     },
     "execution_count": 28,
     "metadata": {},
     "output_type": "execute_result"
    }
   ],
   "source": [
    "employe_check(work_hours)"
   ]
  },
  {
   "cell_type": "code",
   "execution_count": 29,
   "id": "12ae2148",
   "metadata": {},
   "outputs": [],
   "source": [
    "result_3 = employe_check(work_hours)"
   ]
  },
  {
   "cell_type": "code",
   "execution_count": 30,
   "id": "920ca71c",
   "metadata": {},
   "outputs": [
    {
     "data": {
      "text/plain": [
       "(4000, 'Billy')"
      ]
     },
     "execution_count": 30,
     "metadata": {},
     "output_type": "execute_result"
    }
   ],
   "source": [
    "result_3"
   ]
  },
  {
   "cell_type": "code",
   "execution_count": 31,
   "id": "c93a074a",
   "metadata": {},
   "outputs": [],
   "source": [
    "item = employe_check(work_hours)"
   ]
  },
  {
   "cell_type": "code",
   "execution_count": 32,
   "id": "56c0ae4e",
   "metadata": {},
   "outputs": [
    {
     "data": {
      "text/plain": [
       "(4000, 'Billy')"
      ]
     },
     "execution_count": 32,
     "metadata": {},
     "output_type": "execute_result"
    }
   ],
   "source": [
    "item"
   ]
  },
  {
   "cell_type": "code",
   "execution_count": 33,
   "id": "6f83ee36",
   "metadata": {},
   "outputs": [],
   "source": [
    "example = [1,2,3,4,5,6,7]"
   ]
  },
  {
   "cell_type": "code",
   "execution_count": 35,
   "id": "e9a3142e",
   "metadata": {},
   "outputs": [],
   "source": [
    "from random import shuffle"
   ]
  },
  {
   "cell_type": "code",
   "execution_count": 36,
   "id": "c127a553",
   "metadata": {},
   "outputs": [],
   "source": [
    "shuffle(example)"
   ]
  },
  {
   "cell_type": "code",
   "execution_count": 37,
   "id": "6d3bb520",
   "metadata": {},
   "outputs": [
    {
     "data": {
      "text/plain": [
       "[1, 6, 2, 3, 4, 7, 5]"
      ]
     },
     "execution_count": 37,
     "metadata": {},
     "output_type": "execute_result"
    }
   ],
   "source": [
    "example"
   ]
  },
  {
   "cell_type": "code",
   "execution_count": 38,
   "id": "e926b6dd",
   "metadata": {},
   "outputs": [],
   "source": [
    "def shuffle_list(my_list):\n",
    "    shuffle(my_list)\n",
    "    return my_list"
   ]
  },
  {
   "cell_type": "code",
   "execution_count": 39,
   "id": "e6d161c1",
   "metadata": {},
   "outputs": [],
   "source": [
    "result_5 = shuffle_list(example)"
   ]
  },
  {
   "cell_type": "code",
   "execution_count": 40,
   "id": "90a93f9d",
   "metadata": {},
   "outputs": [
    {
     "data": {
      "text/plain": [
       "[5, 7, 4, 2, 3, 6, 1]"
      ]
     },
     "execution_count": 40,
     "metadata": {},
     "output_type": "execute_result"
    }
   ],
   "source": [
    "result_5"
   ]
  },
  {
   "cell_type": "code",
   "execution_count": 41,
   "id": "f1dc063f",
   "metadata": {},
   "outputs": [],
   "source": [
    "mylist = [\" \", \"O\", \" \"]"
   ]
  },
  {
   "cell_type": "code",
   "execution_count": 42,
   "id": "fc829d69",
   "metadata": {},
   "outputs": [
    {
     "data": {
      "text/plain": [
       "['O', ' ', ' ']"
      ]
     },
     "execution_count": 42,
     "metadata": {},
     "output_type": "execute_result"
    }
   ],
   "source": [
    "shuffle_list(mylist)"
   ]
  },
  {
   "cell_type": "code",
   "execution_count": 43,
   "id": "ecf63ce8",
   "metadata": {},
   "outputs": [],
   "source": [
    "def my_func(a,b):\n",
    "    return sum((a,b))*0.05"
   ]
  },
  {
   "cell_type": "code",
   "execution_count": 44,
   "id": "b9454a10",
   "metadata": {},
   "outputs": [
    {
     "data": {
      "text/plain": [
       "5.0"
      ]
     },
     "execution_count": 44,
     "metadata": {},
     "output_type": "execute_result"
    }
   ],
   "source": [
    "my_func(40,60)"
   ]
  },
  {
   "cell_type": "code",
   "execution_count": 45,
   "id": "a523785e",
   "metadata": {},
   "outputs": [
    {
     "data": {
      "text/plain": [
       "5.0"
      ]
     },
     "execution_count": 45,
     "metadata": {},
     "output_type": "execute_result"
    }
   ],
   "source": [
    "my_func(40,60)"
   ]
  },
  {
   "cell_type": "code",
   "execution_count": 46,
   "id": "89759315",
   "metadata": {},
   "outputs": [],
   "source": [
    "def my_func(*args):\n",
    "    return sum(args)* 0.05"
   ]
  },
  {
   "cell_type": "code",
   "execution_count": 47,
   "id": "eafde614",
   "metadata": {},
   "outputs": [
    {
     "data": {
      "text/plain": [
       "4.5"
      ]
     },
     "execution_count": 47,
     "metadata": {},
     "output_type": "execute_result"
    }
   ],
   "source": [
    "my_func(10,30,30,20)"
   ]
  },
  {
   "cell_type": "code",
   "execution_count": 48,
   "id": "be2ee437",
   "metadata": {},
   "outputs": [],
   "source": [
    "def my_func(*args):\n",
    "    for item in args:\n",
    "        print(item)"
   ]
  },
  {
   "cell_type": "code",
   "execution_count": 49,
   "id": "305e2c04",
   "metadata": {},
   "outputs": [
    {
     "name": "stdout",
     "output_type": "stream",
     "text": [
      "10\n",
      "30\n",
      "30\n",
      "20\n"
     ]
    }
   ],
   "source": [
    "my_func(10,30,30,20)"
   ]
  },
  {
   "cell_type": "code",
   "execution_count": 50,
   "id": "ae65ad77",
   "metadata": {},
   "outputs": [
    {
     "name": "stdout",
     "output_type": "stream",
     "text": [
      " print hello \n",
      " welt\n"
     ]
    }
   ],
   "source": [
    "print(\" print hello \\n welt\")"
   ]
  },
  {
   "cell_type": "code",
   "execution_count": 53,
   "id": "5d62e008",
   "metadata": {},
   "outputs": [],
   "source": [
    "x = \"mein Name ist\""
   ]
  },
  {
   "cell_type": "code",
   "execution_count": 54,
   "id": "c41093b1",
   "metadata": {},
   "outputs": [
    {
     "data": {
      "text/plain": [
       "'mein Name ist boris'"
      ]
     },
     "execution_count": 54,
     "metadata": {},
     "output_type": "execute_result"
    }
   ],
   "source": [
    "x + \" \" \"boris\""
   ]
  },
  {
   "cell_type": "code",
   "execution_count": 55,
   "id": "40742c4e",
   "metadata": {},
   "outputs": [
    {
     "data": {
      "text/plain": [
       "'mein Name ist boris'"
      ]
     },
     "execution_count": 55,
     "metadata": {},
     "output_type": "execute_result"
    }
   ],
   "source": [
    "x + \" \" \"boris\""
   ]
  },
  {
   "cell_type": "code",
   "execution_count": 56,
   "id": "dc120b75",
   "metadata": {},
   "outputs": [
    {
     "data": {
      "text/plain": [
       "'MEIN NAME IST'"
      ]
     },
     "execution_count": 56,
     "metadata": {},
     "output_type": "execute_result"
    }
   ],
   "source": [
    "x.upper()"
   ]
  },
  {
   "cell_type": "code",
   "execution_count": 57,
   "id": "31606e42",
   "metadata": {},
   "outputs": [
    {
     "name": "stdout",
     "output_type": "stream",
     "text": [
      " this ist the string  boris \n"
     ]
    }
   ],
   "source": [
    "print(\" this ist the string {}\".format(\" boris \"))"
   ]
  },
  {
   "cell_type": "code",
   "execution_count": 59,
   "id": "85aad1d1",
   "metadata": {},
   "outputs": [],
   "source": [
    "Name = \"Junior\""
   ]
  },
  {
   "cell_type": "code",
   "execution_count": 60,
   "id": "1adb55a4",
   "metadata": {},
   "outputs": [
    {
     "name": "stdout",
     "output_type": "stream",
     "text": [
      " this ist the string Junior\n"
     ]
    }
   ],
   "source": [
    "print(f\" this ist the string {Name}\")"
   ]
  },
  {
   "cell_type": "code",
   "execution_count": 61,
   "id": "00d2863c",
   "metadata": {},
   "outputs": [
    {
     "name": "stdout",
     "output_type": "stream",
     "text": [
      " the fac boris thibaut junior\n"
     ]
    }
   ],
   "source": [
    "print(\" the fac {} {} {}\".format(\"boris\", \"thibaut\", \"junior\"))"
   ]
  },
  {
   "cell_type": "code",
   "execution_count": 64,
   "id": "9566ff01",
   "metadata": {},
   "outputs": [],
   "source": [
    "premier_Nom = \"boris\"\n",
    "second_nom = \"thibaut\"\n",
    "troisieme_Nom = \"junior\""
   ]
  },
  {
   "cell_type": "code",
   "execution_count": 65,
   "id": "f10e2476",
   "metadata": {},
   "outputs": [
    {
     "name": "stdout",
     "output_type": "stream",
     "text": [
      "tous les trois noms sont boris thibaut junior\n"
     ]
    }
   ],
   "source": [
    "print(F\"tous les trois noms sont {premier_Nom} {second_nom} {troisieme_Nom}\" )"
   ]
  },
  {
   "cell_type": "code",
   "execution_count": 66,
   "id": "b3a5e2ba",
   "metadata": {},
   "outputs": [
    {
     "name": "stdout",
     "output_type": "stream",
     "text": [
      " the fac thibaut junior boris\n"
     ]
    }
   ],
   "source": [
    "print(\" the fac {1} {2} {0}\".format(\"boris\", \"thibaut\", \"junior\"))"
   ]
  },
  {
   "cell_type": "code",
   "execution_count": 67,
   "id": "c853e4ba",
   "metadata": {},
   "outputs": [
    {
     "name": "stdout",
     "output_type": "stream",
     "text": [
      " the fac thibaut thibaut thibaut\n"
     ]
    }
   ],
   "source": [
    "print(\" the fac {1} {1} {1}\".format(\"boris\", \"thibaut\", \"junior\"))"
   ]
  },
  {
   "cell_type": "code",
   "execution_count": 68,
   "id": "fdd5c4cb",
   "metadata": {},
   "outputs": [
    {
     "name": "stdout",
     "output_type": "stream",
     "text": [
      " the fac boris thibaut junior\n"
     ]
    }
   ],
   "source": [
    "print(\" the fac {b} {t} {j}\".format(b = \"boris\", t = \"thibaut\", j = \"junior\"))"
   ]
  },
  {
   "cell_type": "code",
   "execution_count": 69,
   "id": "b54a84a0",
   "metadata": {},
   "outputs": [],
   "source": [
    "age = 17"
   ]
  },
  {
   "cell_type": "code",
   "execution_count": 71,
   "id": "cedc9f23",
   "metadata": {},
   "outputs": [
    {
     "name": "stdout",
     "output_type": "stream",
     "text": [
      "Junior ist 17 year old.\n"
     ]
    }
   ],
   "source": [
    "print(f\"{Name} ist {age} year old.\")"
   ]
  },
  {
   "cell_type": "code",
   "execution_count": 72,
   "id": "6a8d22aa",
   "metadata": {},
   "outputs": [],
   "source": [
    "def display(row1,row2,row3):\n",
    "    print(row1)\n",
    "    print(row2)\n",
    "    print(row3)"
   ]
  },
  {
   "cell_type": "code",
   "execution_count": 73,
   "id": "de6ef004",
   "metadata": {},
   "outputs": [
    {
     "name": "stdout",
     "output_type": "stream",
     "text": [
      "[1, 2, 3]\n",
      "[1, 2, 3]\n",
      "[1, 2, 3]\n"
     ]
    }
   ],
   "source": [
    "example_row = [1,2,3]\n",
    "\n",
    "display(example_row,example_row,example_row)"
   ]
  },
  {
   "cell_type": "code",
   "execution_count": 74,
   "id": "ccaa7148",
   "metadata": {},
   "outputs": [],
   "source": [
    "def lesser_of_two_evens(a,b):\n",
    "    if a&2 == 0 and b&2 == 0:\n",
    "        return min(a,b)\n",
    "    else:\n",
    "        return max(a,b)"
   ]
  },
  {
   "cell_type": "code",
   "execution_count": 75,
   "id": "8bcc3831",
   "metadata": {},
   "outputs": [
    {
     "data": {
      "text/plain": [
       "4"
      ]
     },
     "execution_count": 75,
     "metadata": {},
     "output_type": "execute_result"
    }
   ],
   "source": [
    "lesser_of_two_evens(4,2)"
   ]
  },
  {
   "cell_type": "code",
   "execution_count": 79,
   "id": "19c6595a",
   "metadata": {},
   "outputs": [
    {
     "data": {
      "text/plain": [
       "15"
      ]
     },
     "execution_count": 79,
     "metadata": {},
     "output_type": "execute_result"
    }
   ],
   "source": [
    "lesser_of_two_evens(10,15)"
   ]
  },
  {
   "cell_type": "code",
   "execution_count": 80,
   "id": "aefd501e",
   "metadata": {},
   "outputs": [],
   "source": [
    "def string_1(x,y):\n",
    "    if x[0] == y[0]:\n",
    "        return True\n",
    "    else:\n",
    "        return False"
   ]
  },
  {
   "cell_type": "code",
   "execution_count": 81,
   "id": "838fbfb4",
   "metadata": {},
   "outputs": [
    {
     "data": {
      "text/plain": [
       "False"
      ]
     },
     "execution_count": 81,
     "metadata": {},
     "output_type": "execute_result"
    }
   ],
   "source": [
    "string_1(\"boris\",\"junior\")"
   ]
  },
  {
   "cell_type": "code",
   "execution_count": 82,
   "id": "b9693ffd",
   "metadata": {},
   "outputs": [],
   "source": [
    "def animal_crackers(text):\n",
    "    wordlist = text.split()\n",
    "    if wordlist[0][0] == wordlist[1][0]:\n",
    "        return True\n",
    "    else:\n",
    "        return False"
   ]
  },
  {
   "cell_type": "code",
   "execution_count": 83,
   "id": "583bb86c",
   "metadata": {},
   "outputs": [
    {
     "data": {
      "text/plain": [
       "True"
      ]
     },
     "execution_count": 83,
     "metadata": {},
     "output_type": "execute_result"
    }
   ],
   "source": [
    "animal_crackers('Levelheaded Llama')"
   ]
  },
  {
   "cell_type": "code",
   "execution_count": 84,
   "id": "0cb2e444",
   "metadata": {},
   "outputs": [
    {
     "data": {
      "text/plain": [
       "False"
      ]
     },
     "execution_count": 84,
     "metadata": {},
     "output_type": "execute_result"
    }
   ],
   "source": [
    "animal_crackers('Crazy Kangaroo')"
   ]
  },
  {
   "cell_type": "code",
   "execution_count": 85,
   "id": "8ae0a4b8",
   "metadata": {},
   "outputs": [],
   "source": [
    "def animal_crackers_1(text):\n",
    "    wordlist = text.split()\n",
    "    return wordlist[0][0] == wordlist[1][0]"
   ]
  },
  {
   "cell_type": "code",
   "execution_count": 86,
   "id": "58c7d236",
   "metadata": {},
   "outputs": [
    {
     "data": {
      "text/plain": [
       "True"
      ]
     },
     "execution_count": 86,
     "metadata": {},
     "output_type": "execute_result"
    }
   ],
   "source": [
    "animal_crackers_1('Levelheaded Llama')"
   ]
  },
  {
   "cell_type": "code",
   "execution_count": 87,
   "id": "fdf411df",
   "metadata": {},
   "outputs": [
    {
     "data": {
      "text/plain": [
       "False"
      ]
     },
     "execution_count": 87,
     "metadata": {},
     "output_type": "execute_result"
    }
   ],
   "source": [
    "animal_crackers_1('Crazy Kangaroo')"
   ]
  },
  {
   "cell_type": "code",
   "execution_count": 88,
   "id": "8506a130",
   "metadata": {},
   "outputs": [],
   "source": [
    "def sum_1(a,b):\n",
    "    if (a + b == 20):\n",
    "        return True\n",
    "    elif a == 20 or b == 20:\n",
    "        return True\n",
    "    else:\n",
    "        return False"
   ]
  },
  {
   "cell_type": "code",
   "execution_count": 89,
   "id": "6a08dce7",
   "metadata": {},
   "outputs": [
    {
     "data": {
      "text/plain": [
       "False"
      ]
     },
     "execution_count": 89,
     "metadata": {},
     "output_type": "execute_result"
    }
   ],
   "source": [
    "sum_1(10,15)"
   ]
  },
  {
   "cell_type": "code",
   "execution_count": 90,
   "id": "8d1afbc4",
   "metadata": {},
   "outputs": [
    {
     "data": {
      "text/plain": [
       "True"
      ]
     },
     "execution_count": 90,
     "metadata": {},
     "output_type": "execute_result"
    }
   ],
   "source": [
    "sum_1(5,15)"
   ]
  },
  {
   "cell_type": "code",
   "execution_count": 91,
   "id": "5fe419dd",
   "metadata": {},
   "outputs": [],
   "source": [
    "def makes_twenty(n1,n2):\n",
    "    return (n1+n2)==20 or n1==20 or n2==20"
   ]
  },
  {
   "cell_type": "code",
   "execution_count": 95,
   "id": "9810c777",
   "metadata": {},
   "outputs": [
    {
     "data": {
      "text/plain": [
       "True"
      ]
     },
     "execution_count": 95,
     "metadata": {},
     "output_type": "execute_result"
    }
   ],
   "source": [
    "makes_twenty(10 , 20)"
   ]
  },
  {
   "cell_type": "code",
   "execution_count": 96,
   "id": "2f63b46b",
   "metadata": {},
   "outputs": [
    {
     "data": {
      "text/plain": [
       "False"
      ]
     },
     "execution_count": 96,
     "metadata": {},
     "output_type": "execute_result"
    }
   ],
   "source": [
    "makes_twenty(10 , 25)"
   ]
  },
  {
   "cell_type": "code",
   "execution_count": 97,
   "id": "34384bf2",
   "metadata": {},
   "outputs": [],
   "source": [
    "def old_macdonald(x):\n",
    "    return \"x\".capitalize() and \"x\".capitalize()"
   ]
  },
  {
   "cell_type": "code",
   "execution_count": 98,
   "id": "cb7025dd",
   "metadata": {},
   "outputs": [
    {
     "data": {
      "text/plain": [
       "'X'"
      ]
     },
     "execution_count": 98,
     "metadata": {},
     "output_type": "execute_result"
    }
   ],
   "source": [
    "old_macdonald(\"junior\")"
   ]
  },
  {
   "cell_type": "code",
   "execution_count": 99,
   "id": "2aaed652",
   "metadata": {},
   "outputs": [],
   "source": [
    "def old_macdonald(name):\n",
    "    if len(name) > 3:\n",
    "        return name[:3].capitalize() + name[3:].capitalize()\n",
    "    else:\n",
    "        return 'Name is too short!'"
   ]
  },
  {
   "cell_type": "code",
   "execution_count": 100,
   "id": "0bfc895e",
   "metadata": {},
   "outputs": [
    {
     "data": {
      "text/plain": [
       "'JunIor'"
      ]
     },
     "execution_count": 100,
     "metadata": {},
     "output_type": "execute_result"
    }
   ],
   "source": [
    "old_macdonald(\"junior\")"
   ]
  },
  {
   "cell_type": "code",
   "execution_count": 101,
   "id": "722595bd",
   "metadata": {},
   "outputs": [
    {
     "data": {
      "text/plain": [
       "'MacDonald'"
      ]
     },
     "execution_count": 101,
     "metadata": {},
     "output_type": "execute_result"
    }
   ],
   "source": [
    "old_macdonald('macdonald')"
   ]
  },
  {
   "cell_type": "code",
   "execution_count": 102,
   "id": "673d8763",
   "metadata": {},
   "outputs": [],
   "source": [
    "x = \" mein name ist boris tondjua thibaut\""
   ]
  },
  {
   "cell_type": "code",
   "execution_count": 105,
   "id": "305878f3",
   "metadata": {},
   "outputs": [],
   "source": [
    "x_1 = x.split()"
   ]
  },
  {
   "cell_type": "code",
   "execution_count": 106,
   "id": "b14fc505",
   "metadata": {},
   "outputs": [
    {
     "data": {
      "text/plain": [
       "['mein', 'name', 'ist', 'boris', 'tondjua', 'thibaut']"
      ]
     },
     "execution_count": 106,
     "metadata": {},
     "output_type": "execute_result"
    }
   ],
   "source": [
    "x_1"
   ]
  },
  {
   "cell_type": "code",
   "execution_count": 107,
   "id": "b6741b51",
   "metadata": {},
   "outputs": [],
   "source": [
    "def master_yoda_1(text):\n",
    "    return text[::-1]"
   ]
  },
  {
   "cell_type": "code",
   "execution_count": 108,
   "id": "b67301ab",
   "metadata": {},
   "outputs": [
    {
     "data": {
      "text/plain": [
       "'ydaer era eW'"
      ]
     },
     "execution_count": 108,
     "metadata": {},
     "output_type": "execute_result"
    }
   ],
   "source": [
    "master_yoda_1('We are ready')"
   ]
  },
  {
   "cell_type": "code",
   "execution_count": 109,
   "id": "920999cc",
   "metadata": {},
   "outputs": [
    {
     "data": {
      "text/plain": [
       "'emoh ma I'"
      ]
     },
     "execution_count": 109,
     "metadata": {},
     "output_type": "execute_result"
    }
   ],
   "source": [
    "master_yoda_1('I am home')"
   ]
  },
  {
   "cell_type": "code",
   "execution_count": 110,
   "id": "5f75a47e",
   "metadata": {},
   "outputs": [],
   "source": [
    "def master_yoda(text):\n",
    "    return ' '.join(text.split()[::-1])"
   ]
  },
  {
   "cell_type": "code",
   "execution_count": 113,
   "id": "f3135928",
   "metadata": {},
   "outputs": [
    {
     "data": {
      "text/plain": [
       "'ready are We'"
      ]
     },
     "execution_count": 113,
     "metadata": {},
     "output_type": "execute_result"
    }
   ],
   "source": [
    "master_yoda('We are ready')"
   ]
  },
  {
   "cell_type": "code",
   "execution_count": 114,
   "id": "1e4e6dcf",
   "metadata": {},
   "outputs": [],
   "source": [
    "def almost_there(n):\n",
    "    return ((abs(100 - n) <= 10) or (abs(200 - n) <= 10))"
   ]
  },
  {
   "cell_type": "code",
   "execution_count": 115,
   "id": "99895cde",
   "metadata": {},
   "outputs": [
    {
     "data": {
      "text/plain": [
       "True"
      ]
     },
     "execution_count": 115,
     "metadata": {},
     "output_type": "execute_result"
    }
   ],
   "source": [
    "almost_there(90)"
   ]
  },
  {
   "cell_type": "code",
   "execution_count": 116,
   "id": "90e27358",
   "metadata": {},
   "outputs": [
    {
     "data": {
      "text/plain": [
       "True"
      ]
     },
     "execution_count": 116,
     "metadata": {},
     "output_type": "execute_result"
    }
   ],
   "source": [
    "almost_there(104)"
   ]
  },
  {
   "cell_type": "code",
   "execution_count": 117,
   "id": "c3da94fb",
   "metadata": {},
   "outputs": [],
   "source": [
    "def has_33(nums):\n",
    "    for i in range(0, len(nums)-1):\n",
    "      \n",
    "        # nicer looking alternative in commented code\n",
    "        if nums[i] == 3 and nums[i+1] == 3:\n",
    "    \n",
    "        #if nums[i:i+2] == [3,3]:\n",
    "            return True  \n",
    "    \n",
    "    return False"
   ]
  },
  {
   "cell_type": "code",
   "execution_count": 118,
   "id": "49093319",
   "metadata": {},
   "outputs": [
    {
     "data": {
      "text/plain": [
       "True"
      ]
     },
     "execution_count": 118,
     "metadata": {},
     "output_type": "execute_result"
    }
   ],
   "source": [
    "# Check\n",
    "has_33([1, 3, 3])"
   ]
  },
  {
   "cell_type": "code",
   "execution_count": 119,
   "id": "7dfd4d20",
   "metadata": {},
   "outputs": [],
   "source": [
    "def has_33(nums):\n",
    "    for i in range(0, len(nums)-1):\n",
    "      \n",
    "        # nicer looking alternative in commented code\n",
    "        #if nums[i] == 3 and nums[i+1] == 3:\n",
    "    \n",
    "        if nums[i:i+2] == [3,3]:\n",
    "            return True  \n",
    "    \n",
    "    return False"
   ]
  },
  {
   "cell_type": "code",
   "execution_count": 120,
   "id": "d00d4bc3",
   "metadata": {},
   "outputs": [],
   "source": [
    "def has_test(nums):\n",
    "    for i in range(0, len(nums)-1):\n",
    "        print(nums)"
   ]
  },
  {
   "cell_type": "code",
   "execution_count": 121,
   "id": "36628053",
   "metadata": {},
   "outputs": [
    {
     "name": "stdout",
     "output_type": "stream",
     "text": [
      "[1, 2, 3, 4, 5, 6]\n",
      "[1, 2, 3, 4, 5, 6]\n",
      "[1, 2, 3, 4, 5, 6]\n",
      "[1, 2, 3, 4, 5, 6]\n",
      "[1, 2, 3, 4, 5, 6]\n"
     ]
    }
   ],
   "source": [
    "has_test([1,2,3,4,5,6])"
   ]
  },
  {
   "cell_type": "code",
   "execution_count": 122,
   "id": "1e0fbb3d",
   "metadata": {},
   "outputs": [],
   "source": [
    "def has_test_1(nums):\n",
    "    for i in range(0, len(nums)):\n",
    "        print(nums)"
   ]
  },
  {
   "cell_type": "code",
   "execution_count": 123,
   "id": "40aead3c",
   "metadata": {},
   "outputs": [],
   "source": [
    "def ran_check(num, low, high):\n",
    "    if num in range(num, high+1):\n",
    "        print(\" {} is in range between {} and {}\".format(num, low, high))\n",
    "    else:\n",
    "            print(\" the number is outside of range\")"
   ]
  },
  {
   "cell_type": "code",
   "execution_count": 124,
   "id": "343fa14c",
   "metadata": {},
   "outputs": [
    {
     "name": "stdout",
     "output_type": "stream",
     "text": [
      " 5 is in range between 2 and 7\n"
     ]
    }
   ],
   "source": [
    "ran_check(5,2,7)"
   ]
  },
  {
   "cell_type": "code",
   "execution_count": 125,
   "id": "10d00bb6",
   "metadata": {},
   "outputs": [
    {
     "name": "stdout",
     "output_type": "stream",
     "text": [
      " the number is outside of range\n"
     ]
    }
   ],
   "source": [
    "ran_check(10,2,7)"
   ]
  },
  {
   "cell_type": "code",
   "execution_count": 126,
   "id": "b30250c2",
   "metadata": {},
   "outputs": [],
   "source": [
    "def ran_bool(num,low,high):\n",
    "    return num in range(low,high+1)"
   ]
  },
  {
   "cell_type": "code",
   "execution_count": 127,
   "id": "7f44e8b9",
   "metadata": {},
   "outputs": [
    {
     "data": {
      "text/plain": [
       "False"
      ]
     },
     "execution_count": 127,
     "metadata": {},
     "output_type": "execute_result"
    }
   ],
   "source": [
    "ran_bool(20,2,7)"
   ]
  },
  {
   "cell_type": "code",
   "execution_count": 128,
   "id": "9c57f6da",
   "metadata": {},
   "outputs": [],
   "source": [
    "def ran_bool_1(num, low):\n",
    "    result = num + low\n",
    "    return result"
   ]
  },
  {
   "cell_type": "code",
   "execution_count": 129,
   "id": "f977d00d",
   "metadata": {},
   "outputs": [
    {
     "data": {
      "text/plain": [
       "30"
      ]
     },
     "execution_count": 129,
     "metadata": {},
     "output_type": "execute_result"
    }
   ],
   "source": [
    "ran_bool_1(10,20)"
   ]
  },
  {
   "cell_type": "code",
   "execution_count": 130,
   "id": "ac3a6887",
   "metadata": {},
   "outputs": [],
   "source": [
    "def myfunc(name):\n",
    "    print(\"hello my name is {}\".format(name))"
   ]
  },
  {
   "cell_type": "code",
   "execution_count": 131,
   "id": "e4e3965e",
   "metadata": {},
   "outputs": [
    {
     "name": "stdout",
     "output_type": "stream",
     "text": [
      "hello my name is jose\n"
     ]
    }
   ],
   "source": [
    "myfunc(\"jose\")"
   ]
  },
  {
   "cell_type": "code",
   "execution_count": 132,
   "id": "002e5589",
   "metadata": {},
   "outputs": [],
   "source": [
    "def myfunc_1(name):\n",
    "    print(f\"hello my name is {name}\")"
   ]
  },
  {
   "cell_type": "code",
   "execution_count": 133,
   "id": "85bb0cc0",
   "metadata": {},
   "outputs": [
    {
     "name": "stdout",
     "output_type": "stream",
     "text": [
      "hello my name is jose\n"
     ]
    }
   ],
   "source": [
    "myfunc_1(\"jose\")"
   ]
  },
  {
   "cell_type": "code",
   "execution_count": 134,
   "id": "6ea4b5cf",
   "metadata": {},
   "outputs": [],
   "source": [
    "def myfunc_2(a):\n",
    "   if a == True:\n",
    "    return \"hello\"\n",
    "   elif a == False:\n",
    "        return \"goodbye\""
   ]
  },
  {
   "cell_type": "code",
   "execution_count": 136,
   "id": "b31dc629",
   "metadata": {},
   "outputs": [
    {
     "data": {
      "text/plain": [
       "'hello'"
      ]
     },
     "execution_count": 136,
     "metadata": {},
     "output_type": "execute_result"
    }
   ],
   "source": [
    "myfunc_2(True)"
   ]
  },
  {
   "cell_type": "code",
   "execution_count": 137,
   "id": "fa5a916b",
   "metadata": {},
   "outputs": [
    {
     "data": {
      "text/plain": [
       "'goodbye'"
      ]
     },
     "execution_count": 137,
     "metadata": {},
     "output_type": "execute_result"
    }
   ],
   "source": [
    "myfunc_2(False)"
   ]
  },
  {
   "cell_type": "code",
   "execution_count": 138,
   "id": "5fd6b0c3",
   "metadata": {},
   "outputs": [],
   "source": [
    "def myfunc_3(x,y,z):\n",
    "    if x:\n",
    "        return x\n",
    "    else:\n",
    "        return y    "
   ]
  },
  {
   "cell_type": "code",
   "execution_count": 139,
   "id": "1658c15f",
   "metadata": {},
   "outputs": [
    {
     "data": {
      "text/plain": [
       "'hello'"
      ]
     },
     "execution_count": 139,
     "metadata": {},
     "output_type": "execute_result"
    }
   ],
   "source": [
    "myfunc_3(\"hello\", \"boris\" , False)"
   ]
  },
  {
   "cell_type": "code",
   "execution_count": 140,
   "id": "1b8e80ea",
   "metadata": {},
   "outputs": [],
   "source": [
    "def myfunc_4(x,y,z):\n",
    "    if z:\n",
    "        # print(x)\n",
    "        return x\n",
    "    else:\n",
    "        # print(y)\n",
    "        return y"
   ]
  },
  {
   "cell_type": "code",
   "execution_count": 141,
   "id": "29872623",
   "metadata": {},
   "outputs": [
    {
     "data": {
      "text/plain": [
       "'boris'"
      ]
     },
     "execution_count": 141,
     "metadata": {},
     "output_type": "execute_result"
    }
   ],
   "source": [
    "myfunc_4(x = \"hello\", y = \"boris\" , z = False)"
   ]
  },
  {
   "cell_type": "code",
   "execution_count": 142,
   "id": "b6a70225",
   "metadata": {},
   "outputs": [],
   "source": [
    "def myfunc_5(a,b):\n",
    "    return a + b"
   ]
  },
  {
   "cell_type": "code",
   "execution_count": 143,
   "id": "91cc4f8b",
   "metadata": {},
   "outputs": [
    {
     "data": {
      "text/plain": [
       "11"
      ]
     },
     "execution_count": 143,
     "metadata": {},
     "output_type": "execute_result"
    }
   ],
   "source": [
    "myfunc_5(5,6)"
   ]
  },
  {
   "cell_type": "code",
   "execution_count": 144,
   "id": "a490cb4a",
   "metadata": {},
   "outputs": [],
   "source": [
    "def is_even(a):\n",
    "    if a%2 == 0:\n",
    "        return True\n",
    "    else:\n",
    "        return False"
   ]
  },
  {
   "cell_type": "code",
   "execution_count": 145,
   "id": "e408171e",
   "metadata": {},
   "outputs": [
    {
     "data": {
      "text/plain": [
       "True"
      ]
     },
     "execution_count": 145,
     "metadata": {},
     "output_type": "execute_result"
    }
   ],
   "source": [
    "is_even(10)"
   ]
  },
  {
   "cell_type": "code",
   "execution_count": 146,
   "id": "265519cd",
   "metadata": {},
   "outputs": [],
   "source": [
    "def is_greater(a,b):\n",
    "    if a > b:\n",
    "        return a\n",
    "    else:\n",
    "        return False"
   ]
  },
  {
   "cell_type": "code",
   "execution_count": 147,
   "id": "68f47fee",
   "metadata": {},
   "outputs": [
    {
     "data": {
      "text/plain": [
       "False"
      ]
     },
     "execution_count": 147,
     "metadata": {},
     "output_type": "execute_result"
    }
   ],
   "source": [
    "is_greater(5,5)"
   ]
  },
  {
   "cell_type": "code",
   "execution_count": 148,
   "id": "a63bac60",
   "metadata": {},
   "outputs": [],
   "source": [
    "def myfunc_6(*args):\n",
    "    return sum(args)"
   ]
  },
  {
   "cell_type": "code",
   "execution_count": 149,
   "id": "e3ade362",
   "metadata": {},
   "outputs": [
    {
     "data": {
      "text/plain": [
       "250"
      ]
     },
     "execution_count": 149,
     "metadata": {},
     "output_type": "execute_result"
    }
   ],
   "source": [
    "myfunc_6(10,20,30,40,70,80)"
   ]
  },
  {
   "cell_type": "code",
   "execution_count": 150,
   "id": "4c24c5d2",
   "metadata": {},
   "outputs": [],
   "source": [
    "def myfunc_7(*args):\n",
    "    liste_1 = []\n",
    "    for num in args:\n",
    "        if num%2 == 0:\n",
    "            liste_1.append(num)\n",
    "    return liste_1"
   ]
  },
  {
   "cell_type": "code",
   "execution_count": 151,
   "id": "5318e500",
   "metadata": {},
   "outputs": [
    {
     "data": {
      "text/plain": [
       "[2, 6, 8]"
      ]
     },
     "execution_count": 151,
     "metadata": {},
     "output_type": "execute_result"
    }
   ],
   "source": [
    "myfunc_7(1,2,3,6,5,9,8,7)"
   ]
  },
  {
   "cell_type": "code",
   "execution_count": 152,
   "id": "bddc2adf",
   "metadata": {},
   "outputs": [],
   "source": [
    "def myfunc_8(*args):\n",
    "    out = []\n",
    "    for num in args:\n",
    "        if num%2==0:\n",
    "            out.append(num)\n",
    "    return out"
   ]
  },
  {
   "cell_type": "code",
   "execution_count": 153,
   "id": "7cc32274",
   "metadata": {},
   "outputs": [
    {
     "data": {
      "text/plain": [
       "[2, 6, 8]"
      ]
     },
     "execution_count": 153,
     "metadata": {},
     "output_type": "execute_result"
    }
   ],
   "source": [
    "myfunc_8(1,2,3,6,5,9,8,7)"
   ]
  },
  {
   "cell_type": "code",
   "execution_count": 156,
   "id": "833a8aba",
   "metadata": {},
   "outputs": [],
   "source": [
    "def myfunc_9(x):\n",
    "    out = []\n",
    "    for i in range(len(x)):\n",
    "        if i%2 == 0:\n",
    "            out.append(x[i].lower())\n",
    "        else:\n",
    "            out.append(x[i].upper())\n",
    "    return ''.join(out)"
   ]
  },
  {
   "cell_type": "code",
   "execution_count": 157,
   "id": "f92fc3a7",
   "metadata": {},
   "outputs": [
    {
     "data": {
      "text/plain": [
       "'bOrIsO'"
      ]
     },
     "execution_count": 157,
     "metadata": {},
     "output_type": "execute_result"
    }
   ],
   "source": [
    "myfunc_9(\"boriso\")"
   ]
  },
  {
   "cell_type": "code",
   "execution_count": 158,
   "id": "ec256ad1",
   "metadata": {},
   "outputs": [],
   "source": [
    "def has_33(nums):\n",
    "    for i in range( 0 , len(nums)-1 ):\n",
    "        print(nums)\n",
    "        if nums[i] == 3 and nums[i+1] == 3:\n",
    "            return True\n",
    "    return False"
   ]
  },
  {
   "cell_type": "code",
   "execution_count": 159,
   "id": "4760e225",
   "metadata": {},
   "outputs": [
    {
     "name": "stdout",
     "output_type": "stream",
     "text": [
      "[1, 3, 3]\n",
      "[1, 3, 3]\n"
     ]
    },
    {
     "data": {
      "text/plain": [
       "True"
      ]
     },
     "execution_count": 159,
     "metadata": {},
     "output_type": "execute_result"
    }
   ],
   "source": [
    "has_33([1, 3, 3])"
   ]
  },
  {
   "cell_type": "code",
   "execution_count": 160,
   "id": "61087b3d",
   "metadata": {},
   "outputs": [],
   "source": [
    "def paper_doll(text):\n",
    "    result = \" \"\n",
    "    for char in text:\n",
    "        result += char * 3\n",
    "    return result"
   ]
  },
  {
   "cell_type": "code",
   "execution_count": 161,
   "id": "9b4d50f7",
   "metadata": {},
   "outputs": [
    {
     "data": {
      "text/plain": [
       "' hhheeellllllooo'"
      ]
     },
     "execution_count": 161,
     "metadata": {},
     "output_type": "execute_result"
    }
   ],
   "source": [
    "paper_doll(\"hello\")"
   ]
  },
  {
   "cell_type": "code",
   "execution_count": 162,
   "id": "2db56f9d",
   "metadata": {},
   "outputs": [
    {
     "data": {
      "text/plain": [
       "' MMMiiissssssiiissssssiiippppppiii'"
      ]
     },
     "execution_count": 162,
     "metadata": {},
     "output_type": "execute_result"
    }
   ],
   "source": [
    "paper_doll('Mississippi')"
   ]
  },
  {
   "cell_type": "code",
   "execution_count": 163,
   "id": "ad81d7ae",
   "metadata": {},
   "outputs": [],
   "source": [
    "def blackjack(a,b,c):\n",
    "    \n",
    "    if sum((a,b,c)) <= 21:\n",
    "        return sum((a,b,c))\n",
    "    elif sum((a,b,c))<= 31 and 11 in (a,b,c):\n",
    "        return sum(a,b,c) - 10\n",
    "    else:\n",
    "        return \"Bust\""
   ]
  },
  {
   "cell_type": "code",
   "execution_count": 164,
   "id": "3df6e75b",
   "metadata": {},
   "outputs": [
    {
     "data": {
      "text/plain": [
       "18"
      ]
     },
     "execution_count": 164,
     "metadata": {},
     "output_type": "execute_result"
    }
   ],
   "source": [
    "blackjack(5,6,7)"
   ]
  },
  {
   "cell_type": "code",
   "execution_count": 165,
   "id": "90be1c77",
   "metadata": {},
   "outputs": [],
   "source": [
    "def blackjack(a,b,c):\n",
    "    \n",
    "    if sum((a,b,c)) <= 21:\n",
    "        return sum((a,b,c))\n",
    "    elif sum((a,b,c)) <=31 and 11 in (a,b,c):\n",
    "        return sum((a,b,c)) - 10\n",
    "    else:\n",
    "        return 'BUST'"
   ]
  },
  {
   "cell_type": "code",
   "execution_count": 166,
   "id": "e19b885b",
   "metadata": {},
   "outputs": [
    {
     "data": {
      "text/plain": [
       "18"
      ]
     },
     "execution_count": 166,
     "metadata": {},
     "output_type": "execute_result"
    }
   ],
   "source": [
    "blackjack(5,6,7)"
   ]
  },
  {
   "cell_type": "code",
   "execution_count": 167,
   "id": "3e553dc6",
   "metadata": {},
   "outputs": [],
   "source": [
    "def spy_game(nums):\n",
    "\n",
    "    code = [0,0,7,'x']\n",
    "    \n",
    "    for num in nums:\n",
    "        if num == code[0]:\n",
    "            code.pop(0)   # code.remove(num) also works\n",
    "       \n",
    "    return len(code) == 1"
   ]
  },
  {
   "cell_type": "code",
   "execution_count": 168,
   "id": "10261ae3",
   "metadata": {},
   "outputs": [
    {
     "data": {
      "text/plain": [
       "True"
      ]
     },
     "execution_count": 168,
     "metadata": {},
     "output_type": "execute_result"
    }
   ],
   "source": [
    "spy_game([1,2,4,0,0,7,5])"
   ]
  },
  {
   "cell_type": "markdown",
   "id": "c6c69442",
   "metadata": {},
   "source": [
    "## The Map() function : the function map() is apply on all the element of the objet"
   ]
  },
  {
   "cell_type": "code",
   "execution_count": 171,
   "id": "3843062a",
   "metadata": {},
   "outputs": [],
   "source": [
    "def square(num):\n",
    "    return num**2"
   ]
  },
  {
   "cell_type": "code",
   "execution_count": 172,
   "id": "c0f2ab0a",
   "metadata": {},
   "outputs": [],
   "source": [
    "my_nums = [1, 2, 3, 4, 5]"
   ]
  },
  {
   "cell_type": "code",
   "execution_count": 173,
   "id": "d5a36c4e",
   "metadata": {},
   "outputs": [
    {
     "data": {
      "text/plain": [
       "<map at 0x24056a68e20>"
      ]
     },
     "execution_count": 173,
     "metadata": {},
     "output_type": "execute_result"
    }
   ],
   "source": [
    "map(square, my_nums)"
   ]
  },
  {
   "cell_type": "code",
   "execution_count": 174,
   "id": "60828b91",
   "metadata": {},
   "outputs": [
    {
     "name": "stdout",
     "output_type": "stream",
     "text": [
      "1\n",
      "4\n",
      "9\n",
      "16\n",
      "25\n"
     ]
    }
   ],
   "source": [
    "for item in map(square, my_nums): # ce veut dire : applique moi la fonction map() a lobjet my_nums\n",
    "    print(item)"
   ]
  },
  {
   "cell_type": "code",
   "execution_count": 175,
   "id": "1aab954a",
   "metadata": {},
   "outputs": [
    {
     "data": {
      "text/plain": [
       "[1, 4, 9, 16, 25]"
      ]
     },
     "execution_count": 175,
     "metadata": {},
     "output_type": "execute_result"
    }
   ],
   "source": [
    "list(map(square, my_nums))"
   ]
  },
  {
   "cell_type": "code",
   "execution_count": 176,
   "id": "056d466c",
   "metadata": {},
   "outputs": [],
   "source": [
    "def splicer(mystring):\n",
    "    if len(mystring)%2 == 0:\n",
    "        return \"EVEN\"\n",
    "    else:\n",
    "        return mystring[0]"
   ]
  },
  {
   "cell_type": "code",
   "execution_count": 177,
   "id": "fdef7ee3",
   "metadata": {},
   "outputs": [],
   "source": [
    "names = [\"boris\" , \"junior\" , \"thibaut\"]"
   ]
  },
  {
   "cell_type": "code",
   "execution_count": 178,
   "id": "9171a5e8",
   "metadata": {},
   "outputs": [
    {
     "data": {
      "text/plain": [
       "['b', 'EVEN', 't']"
      ]
     },
     "execution_count": 178,
     "metadata": {},
     "output_type": "execute_result"
    }
   ],
   "source": [
    "list(map(splicer, names))\n",
    "# tres important , quand tu use la fonction map(, tu passe les autres fonction a l interieur dwe lui comme des \n",
    "# simpes arguments sans plus mettre les parantheses)"
   ]
  },
  {
   "cell_type": "code",
   "execution_count": 179,
   "id": "418cda76",
   "metadata": {},
   "outputs": [
    {
     "name": "stdout",
     "output_type": "stream",
     "text": [
      "['boris', 'junior', 'thibaut']\n",
      "['boris', 'junior', 'thibaut']\n",
      "['boris', 'junior', 'thibaut']\n"
     ]
    }
   ],
   "source": [
    "for name in map(splicer , names):\n",
    "    print(names)"
   ]
  },
  {
   "cell_type": "markdown",
   "id": "2d16e23c",
   "metadata": {},
   "source": [
    "### Filter() fonction you need to filter by fonction that return True or False when you use the filter function you have to return a boolean either True or False"
   ]
  },
  {
   "cell_type": "code",
   "execution_count": 181,
   "id": "b13b5947",
   "metadata": {},
   "outputs": [],
   "source": [
    "def check_even(num):\n",
    "    return num % 2 == 0"
   ]
  },
  {
   "cell_type": "code",
   "execution_count": 182,
   "id": "65a7a605",
   "metadata": {},
   "outputs": [],
   "source": [
    "liste_nums = [1,2,3,4,5,6]"
   ]
  },
  {
   "cell_type": "code",
   "execution_count": 183,
   "id": "7d2f264f",
   "metadata": {},
   "outputs": [
    {
     "data": {
      "text/plain": [
       "[2, 4, 6]"
      ]
     },
     "execution_count": 183,
     "metadata": {},
     "output_type": "execute_result"
    }
   ],
   "source": [
    "list(filter(check_even, liste_nums))"
   ]
  },
  {
   "cell_type": "code",
   "execution_count": 186,
   "id": "881eacf6",
   "metadata": {},
   "outputs": [
    {
     "data": {
      "text/plain": [
       "[1, 4, 9, 16, 25, 36]"
      ]
     },
     "execution_count": 186,
     "metadata": {},
     "output_type": "execute_result"
    }
   ],
   "source": [
    "list(map(square, liste_nums))"
   ]
  },
  {
   "cell_type": "code",
   "execution_count": null,
   "id": "8f3703cf",
   "metadata": {},
   "outputs": [],
   "source": []
  }
 ],
 "metadata": {
  "kernelspec": {
   "display_name": "Python 3 (ipykernel)",
   "language": "python",
   "name": "python3"
  },
  "language_info": {
   "codemirror_mode": {
    "name": "ipython",
    "version": 3
   },
   "file_extension": ".py",
   "mimetype": "text/x-python",
   "name": "python",
   "nbconvert_exporter": "python",
   "pygments_lexer": "ipython3",
   "version": "3.9.13"
  }
 },
 "nbformat": 4,
 "nbformat_minor": 5
}
