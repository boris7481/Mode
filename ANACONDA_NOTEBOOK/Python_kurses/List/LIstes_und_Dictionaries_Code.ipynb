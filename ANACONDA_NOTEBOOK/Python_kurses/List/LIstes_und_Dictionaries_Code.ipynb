{
 "cells": [
  {
   "cell_type": "code",
   "execution_count": 1,
   "id": "91caa6d0",
   "metadata": {},
   "outputs": [
    {
     "name": "stdout",
     "output_type": "stream",
     "text": [
      "1\n"
     ]
    }
   ],
   "source": [
    "liste =[1, 3, 6 ,5 ,9]\n",
    "print(liste[0])"
   ]
  },
  {
   "cell_type": "code",
   "execution_count": 2,
   "id": "2f121df8",
   "metadata": {},
   "outputs": [
    {
     "data": {
      "text/plain": [
       "1"
      ]
     },
     "execution_count": 2,
     "metadata": {},
     "output_type": "execute_result"
    }
   ],
   "source": [
    "liste.count(5)"
   ]
  },
  {
   "cell_type": "code",
   "execution_count": 3,
   "id": "181a78ae",
   "metadata": {},
   "outputs": [],
   "source": [
    "liste_2 = [\"boris\", \"hermann\"\",bblaure\",\"davila\"]"
   ]
  },
  {
   "cell_type": "code",
   "execution_count": 4,
   "id": "5b8f49c0",
   "metadata": {},
   "outputs": [],
   "source": [
    "dico ={liste :liste_2 for liste, liste_2 in zip(liste,liste_2)}"
   ]
  },
  {
   "cell_type": "code",
   "execution_count": 5,
   "id": "db750ad0",
   "metadata": {},
   "outputs": [
    {
     "data": {
      "text/plain": [
       "{1: 'boris', 3: 'hermann,bblaure', 6: 'davila'}"
      ]
     },
     "execution_count": 5,
     "metadata": {},
     "output_type": "execute_result"
    }
   ],
   "source": [
    "dico"
   ]
  },
  {
   "cell_type": "code",
   "execution_count": 7,
   "id": "e1303be3",
   "metadata": {},
   "outputs": [
    {
     "name": "stdout",
     "output_type": "stream",
     "text": [
      "[0, 1, 4, 9, 16, 25, 36, 49, 64, 81]\n"
     ]
    }
   ],
   "source": [
    "# voila l exemple d une liste comprehension\n",
    "# on se rend compte qu on a ecris en une ligne ce qui nous avais 3 lignes avant\n",
    "# 2eme raison est que ca fait plus python d ecrire de cette maniere\n",
    "liste_2 = [ i ** 2 for i in range(10)]\n",
    "print(liste_2)"
   ]
  },
  {
   "cell_type": "code",
   "execution_count": 9,
   "id": "73dae36e",
   "metadata": {},
   "outputs": [],
   "source": [
    "traduction = {\n",
    "    \" chien \" : \" dog \",\n",
    "    \" chat \" : \" cat \",\n",
    "    \" souris \" : \" mouse \",\n",
    "    \" oiseau \" : \" bird \"\n",
    "}\n",
    "# tres important de savoir que dans un dico on ne peut pas avoir la meme clef deux fois chacune est unique\n",
    "#par exemple je ne peut pas recreer  la clef oiseau deux fois mais la valeur bird je apparaitre plusieur fois\n",
    "# dans mon dico"
   ]
  },
  {
   "cell_type": "code",
   "execution_count": 10,
   "id": "e012b338",
   "metadata": {},
   "outputs": [
    {
     "data": {
      "text/plain": [
       "{' bananes ': 500, ' pommes ': 200, ' poires ': 300, ' serises ': 400}"
      ]
     },
     "execution_count": 10,
     "metadata": {},
     "output_type": "execute_result"
    }
   ],
   "source": [
    "inventaire = {\n",
    "    \" bananes \" : 500,\n",
    "    \" pommes \" : 200,\n",
    "    \" poires \" : 300,\n",
    "    \" serises \" : 400\n",
    "}\n",
    "inventaire"
   ]
  },
  {
   "cell_type": "code",
   "execution_count": null,
   "id": "92e32c04",
   "metadata": {},
   "outputs": [],
   "source": []
  }
 ],
 "metadata": {
  "kernelspec": {
   "display_name": "Python 3 (ipykernel)",
   "language": "python",
   "name": "python3"
  },
  "language_info": {
   "codemirror_mode": {
    "name": "ipython",
    "version": 3
   },
   "file_extension": ".py",
   "mimetype": "text/x-python",
   "name": "python",
   "nbconvert_exporter": "python",
   "pygments_lexer": "ipython3",
   "version": "3.9.13"
  }
 },
 "nbformat": 4,
 "nbformat_minor": 5
}
