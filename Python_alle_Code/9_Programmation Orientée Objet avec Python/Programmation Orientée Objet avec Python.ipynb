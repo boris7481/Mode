{
 "cells": [
  {
   "cell_type": "markdown",
   "id": "76a1c530",
   "metadata": {},
   "source": [
    "\n",
    "9/30 Programmation Orientée Objet avec Python\n",
    "\n",
    "La programmation orientée objet est un paradigme, c'est a dire une facon de procéder pour écrire des programmes clairs et simples. Le principe est de modéliser les éléments de notre programmes (comme les tableaux et les listes) comme étant des des objets caractérisés par des attributs et capables d'effectuer des actions. Ces objets sont construits a partir de classes qui contiennent leur plan de fabrication.\n",
    "\n",
    "Dans le langage Python, presque tout est construit pour etre un objet : les listes, les dictionnaires, les tableaux numpy, etc. Par exemple quand on écrit : *list.append()*, on utilise en fait la méthode append() sur un objet liste.\n",
    "\n",
    "La documentation Python, Numpy, Pandas, Matplotlib, Sklearn, est donc en vaste majorité constituée de classes qu'il est important de savoir déchiffrer pour pouvoir apprendre soi-meme de nouvelles choses grace aux documentations.\n",
    "\n",
    "Voici donc comment créer simplement et efficacement des classes :\n"
   ]
  },
  {
   "cell_type": "code",
   "execution_count": 1,
   "id": "868d9208",
   "metadata": {},
   "outputs": [],
   "source": [
    "class vehicule:\n",
    "  \"\"\"\n",
    "  Voici un exemple de classe \"vehicule\" qui contient le plan de conception\n",
    "  d'objets \"véhicules\"\n",
    "  \"\"\"\n",
    "\n",
    "  # Une classe commence par une fonction initialisation qui contient les différents attributs\n",
    "  def __init__(self, couleur='noire', vitesse=0, roues=4):\n",
    "    self.couleur = couleur\n",
    "    self.vitesse = vitesse\n",
    "    self.roues = roues\n",
    "    \n",
    "  # voici une méthode \"accelerer\" qui modifie un attribut de l'objet\n",
    "  def accelerer(self, vitesse):\n",
    "    self.vitesse += vitesse\n",
    "\n",
    "  # voici une autre méthode\n",
    "  def stop(self):\n",
    "    self.vitesse = 0\n",
    "\n",
    "  # voici une derniere méthode, tres souvent utilisée\n",
    "  def afficher(self):\n",
    "    print(f'couleur: {self.couleur}\\nroues: {self.roues}\\nvitesse: {self.vitesse}')"
   ]
  },
  {
   "cell_type": "code",
   "execution_count": 2,
   "id": "ae0e4a72",
   "metadata": {},
   "outputs": [],
   "source": [
    "# création d'un objet de la classe voiture\n",
    "voiture_1 = vehicule(couleur='rouge')"
   ]
  },
  {
   "cell_type": "code",
   "execution_count": 6,
   "id": "d9e80430",
   "metadata": {},
   "outputs": [],
   "source": [
    "voiture_1.accelerer(100)"
   ]
  },
  {
   "cell_type": "code",
   "execution_count": 7,
   "id": "571197d5",
   "metadata": {},
   "outputs": [
    {
     "name": "stdout",
     "output_type": "stream",
     "text": [
      "couleur: rouge\n",
      "roues: 4\n",
      "vitesse: 300\n"
     ]
    }
   ],
   "source": [
    "voiture_1.afficher()"
   ]
  },
  {
   "cell_type": "markdown",
   "id": "ad39bcb5",
   "metadata": {},
   "source": [
    "Créer des sous-classes"
   ]
  },
  {
   "cell_type": "code",
   "execution_count": 8,
   "id": "7a4fbb8c",
   "metadata": {},
   "outputs": [],
   "source": [
    "class voiture_electrique(vehicule):\n",
    "  \"\"\"\n",
    "  La classe moto hérite des méthodes et des attributs de la classe véhicule\n",
    "  \"\"\"\n",
    "\n",
    "  def __init__(self, couleur='black', vitesse=0, roues=4, autonomie=100):\n",
    "    super().__init__(couleur, vitesse, roues) # super() permet d'utiliser la fonction de la classe \"parent\"\n",
    "    self.autonomie = autonomie\n",
    "\n",
    "  # Ré-écriture de certaines méthodes\n",
    "  def accelerer(self, vitesse):\n",
    "    super().accelerer(vitesse)\n",
    "    self.autonomie -= 0.1 *self.vitesse\n",
    "\n",
    "  def afficher(self):\n",
    "    super().afficher()\n",
    "    print(f'autonomie: {self.autonomie}')"
   ]
  },
  {
   "cell_type": "code",
   "execution_count": 9,
   "id": "193c27f9",
   "metadata": {},
   "outputs": [],
   "source": [
    "voiture_2 = voiture_electrique()"
   ]
  },
  {
   "cell_type": "code",
   "execution_count": 10,
   "id": "14280f4c",
   "metadata": {},
   "outputs": [
    {
     "name": "stdout",
     "output_type": "stream",
     "text": [
      "couleur: black\n",
      "roues: 4\n",
      "vitesse: 0\n",
      "autonomie: 100\n",
      "couleur: black\n",
      "roues: 4\n",
      "vitesse: 10\n",
      "autonomie: 99.0\n"
     ]
    }
   ],
   "source": [
    "voiture_2.afficher()\n",
    "\n",
    "voiture_2.accelerer(10)\n",
    "\n",
    "voiture_2.afficher()"
   ]
  },
  {
   "cell_type": "code",
   "execution_count": null,
   "id": "cf6a728a",
   "metadata": {},
   "outputs": [],
   "source": []
  }
 ],
 "metadata": {
  "kernelspec": {
   "display_name": "Python 3 (ipykernel)",
   "language": "python",
   "name": "python3"
  },
  "language_info": {
   "codemirror_mode": {
    "name": "ipython",
    "version": 3
   },
   "file_extension": ".py",
   "mimetype": "text/x-python",
   "name": "python",
   "nbconvert_exporter": "python",
   "pygments_lexer": "ipython3",
   "version": "3.9.13"
  }
 },
 "nbformat": 4,
 "nbformat_minor": 5
}
