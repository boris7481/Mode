{
 "cells": [
  {
   "cell_type": "markdown",
   "id": "1986eeec",
   "metadata": {},
   "source": [
    "Une structure de données est une variable capable de contenir plusieurs valeurs a la fois. Une structure de données peut former une séquence si les valeurs qui la composent sont rangées dans un certains ordre. C'est le cas des listes et des tuples. A l'inverse un Dictionnaire ne forme pas une séquence."
   ]
  },
  {
   "cell_type": "markdown",
   "id": "e5763e1c",
   "metadata": {},
   "source": [
    "1. Création de Listes et de Tuples\n",
    "\n",
    "une liste ou un tuple peuvent contenir tout types de valeurs (int, float, bool, string). On dit que ce sont des structures hétérogenes.\n",
    "\n",
    "La différence entre les 2 est qu'une liste est mutable alors qu'un Tuple ne l'est pas (on ne peut pas le changer apres qu'il soit crée)"
   ]
  },
  {
   "cell_type": "code",
   "execution_count": 1,
   "id": "5553177c",
   "metadata": {},
   "outputs": [],
   "source": [
    "# Listes\n",
    "liste_1 = [1, 4, 2, 7, 35, 84]\n",
    "villes = ['Paris', 'Berlin', 'Londres', 'Bruxelles']\n",
    "nested_list = [liste_1, villes] # une liste peut meme contenir des listes ! On appelle cela une nested list\n",
    "\n",
    "#Tuples\n",
    "tuple_1 = (1, 2, 6, 2)"
   ]
  },
  {
   "cell_type": "code",
   "execution_count": 2,
   "id": "f2e5b4eb",
   "metadata": {},
   "outputs": [
    {
     "name": "stdout",
     "output_type": "stream",
     "text": [
      "['Paris', 'Berlin', 'Londres', 'Bruxelles']\n"
     ]
    }
   ],
   "source": [
    "print(villes)"
   ]
  },
  {
   "cell_type": "markdown",
   "id": "e8d1885b",
   "metadata": {},
   "source": [
    "2. Indexing et Slicing\n",
    "\n",
    "Dans une séquence, chaque élément est rangé selon un index (le premier index étant l'index 0)\n",
    "\n",
    "Pour acceder a un élément d'une liste ou d'un tuple, on utilise une technique appelée Indexing\n",
    "\n",
    "Pour acceder a plusieurs éléments d'une liste ou d'un tuple, on utilie une technique appelée Slicing\n"
   ]
  },
  {
   "cell_type": "code",
   "execution_count": 3,
   "id": "3783e8b9",
   "metadata": {},
   "outputs": [
    {
     "name": "stdout",
     "output_type": "stream",
     "text": [
      "séquence complete: ['Paris', 'Berlin', 'Londres', 'Bruxelles']\n",
      "index 0: Paris\n",
      "index 1: Berlin\n",
      "dernier index (-1): Bruxelles\n"
     ]
    }
   ],
   "source": [
    "# INDEXING\n",
    "\n",
    "print('séquence complete:', villes)\n",
    "print('index 0:', villes[0])\n",
    "print('index 1:', villes[1])\n",
    "print('dernier index (-1):', villes[-1])"
   ]
  },
  {
   "cell_type": "code",
   "execution_count": 4,
   "id": "70da67b8",
   "metadata": {},
   "outputs": [
    {
     "name": "stdout",
     "output_type": "stream",
     "text": [
      "séquence complete: ['Paris', 'Berlin', 'Londres', 'Bruxelles']\n",
      "index 0-2: ['Paris', 'Berlin', 'Londres']\n",
      "index 1-2: ['Berlin', 'Londres']\n",
      "ordre inverse: ['Bruxelles', 'Londres', 'Berlin', 'Paris']\n"
     ]
    }
   ],
   "source": [
    "# SLICING [début (inclus) : fin (exclus) : pas]\n",
    "\n",
    "print('séquence complete:', villes)\n",
    "print('index 0-2:', villes[0:3])\n",
    "print('index 1-2:', villes[1:3])\n",
    "print('ordre inverse:', villes[::-1])"
   ]
  },
  {
   "cell_type": "markdown",
   "id": "5d6c278f",
   "metadata": {},
   "source": [
    "3. Actions utiles sur les listes"
   ]
  },
  {
   "cell_type": "code",
   "execution_count": 5,
   "id": "4933640e",
   "metadata": {},
   "outputs": [
    {
     "name": "stdout",
     "output_type": "stream",
     "text": [
      "['Paris', 'Berlin', 'Londres', 'Bruxelles']\n",
      "['Paris', 'Berlin', 'Londres', 'Bruxelles', 'Dublin']\n",
      "['Paris', 'Berlin', 'Madrid', 'Londres', 'Bruxelles', 'Dublin']\n",
      "['Paris', 'Berlin', 'Madrid', 'Londres', 'Bruxelles', 'Dublin', 'Amsterdam', 'Rome']\n",
      "longeur de la liste: 8\n",
      "['Amsterdam', 'Berlin', 'Bruxelles', 'Dublin', 'Londres', 'Madrid', 'Paris', 'Rome']\n",
      "1\n"
     ]
    }
   ],
   "source": [
    "villes = ['Paris', 'Berlin', 'Londres', 'Bruxelles'] # liste initiale\n",
    "print(villes)\n",
    "\n",
    "villes.append('Dublin') # Rajoute un élément a la fin de la liste\n",
    "print(villes)\n",
    "\n",
    "villes.insert(2, 'Madrid') # Rajoute un élément a l'index indiqué\n",
    "print(villes)\n",
    "\n",
    "villes.extend(['Amsterdam', 'Rome']) # Rajoute une liste a la fin de notre liste\n",
    "print(villes)\n",
    "\n",
    "print('longeur de la liste:', len(villes)) #affiche la longueur de la liste\n",
    "\n",
    "villes.sort(reverse=False) # trie la liste par ordre alphabétique / numérique\n",
    "print(villes)\n",
    "\n",
    "print(villes.count('Paris')) # compte le nombre de fois qu'un élément apparait dans la liste"
   ]
  },
  {
   "cell_type": "code",
   "execution_count": 6,
   "id": "67f07bca",
   "metadata": {},
   "outputs": [
    {
     "name": "stdout",
     "output_type": "stream",
     "text": [
      "oui\n"
     ]
    }
   ],
   "source": [
    "if 'Paris' in villes:\n",
    "  print('oui')\n",
    "else:\n",
    "  print('non')"
   ]
  },
  {
   "cell_type": "code",
   "execution_count": 7,
   "id": "dbe4cdc1",
   "metadata": {},
   "outputs": [
    {
     "name": "stdout",
     "output_type": "stream",
     "text": [
      "Amsterdam\n",
      "Berlin\n",
      "Bruxelles\n",
      "Dublin\n",
      "Londres\n",
      "Madrid\n",
      "Paris\n",
      "Rome\n"
     ]
    }
   ],
   "source": [
    "for element in villes:\n",
    "  print(element)"
   ]
  },
  {
   "cell_type": "markdown",
   "id": "76b20965",
   "metadata": {},
   "source": [
    "La fonction enumerate est tres utile pour sortir a la fois les éléments d'une liste et leurs index. C'est une fonction tres utilisée en datascience"
   ]
  },
  {
   "cell_type": "code",
   "execution_count": 8,
   "id": "190a19c7",
   "metadata": {},
   "outputs": [
    {
     "name": "stdout",
     "output_type": "stream",
     "text": [
      "0 Amsterdam\n",
      "1 Berlin\n",
      "2 Bruxelles\n",
      "3 Dublin\n",
      "4 Londres\n",
      "5 Madrid\n",
      "6 Paris\n",
      "7 Rome\n"
     ]
    }
   ],
   "source": [
    "for index, element in enumerate(villes):\n",
    "  print(index, element)"
   ]
  },
  {
   "cell_type": "markdown",
   "id": "eba7c0e8",
   "metadata": {},
   "source": [
    "La fonction zip est aussi tres utile pour itérée a travers 2 listes en paralleles. Si une liste est plus courte que l'autre, la boucle for s'arrete a la liste la plus courte"
   ]
  },
  {
   "cell_type": "code",
   "execution_count": 9,
   "id": "8c4972cf",
   "metadata": {},
   "outputs": [
    {
     "name": "stdout",
     "output_type": "stream",
     "text": [
      "Amsterdam 312\n",
      "Berlin 52\n",
      "Bruxelles 654\n",
      "Dublin 23\n",
      "Londres 65\n",
      "Madrid 12\n",
      "Paris 678\n"
     ]
    }
   ],
   "source": [
    "liste_2 = [312, 52, 654, 23, 65, 12, 678]\n",
    "for element_1, element_2 in zip(villes, liste_2):\n",
    "  print(element_1, element_2)"
   ]
  },
  {
   "cell_type": "code",
   "execution_count": 12,
   "id": "02bcea8c",
   "metadata": {},
   "outputs": [],
   "source": [
    "compte = [ 2, 4, 4 ,6, 9 ,67, 10]"
   ]
  },
  {
   "cell_type": "code",
   "execution_count": 13,
   "id": "031cf1cb",
   "metadata": {},
   "outputs": [
    {
     "data": {
      "text/plain": [
       "67"
      ]
     },
     "execution_count": 13,
     "metadata": {},
     "output_type": "execute_result"
    }
   ],
   "source": [
    "max(compte)"
   ]
  },
  {
   "cell_type": "code",
   "execution_count": 14,
   "id": "096b303d",
   "metadata": {},
   "outputs": [
    {
     "data": {
      "text/plain": [
       "2"
      ]
     },
     "execution_count": 14,
     "metadata": {},
     "output_type": "execute_result"
    }
   ],
   "source": [
    "min(compte)"
   ]
  },
  {
   "cell_type": "code",
   "execution_count": null,
   "id": "69616c50",
   "metadata": {},
   "outputs": [],
   "source": []
  }
 ],
 "metadata": {
  "kernelspec": {
   "display_name": "Python 3 (ipykernel)",
   "language": "python",
   "name": "python3"
  },
  "language_info": {
   "codemirror_mode": {
    "name": "ipython",
    "version": 3
   },
   "file_extension": ".py",
   "mimetype": "text/x-python",
   "name": "python",
   "nbconvert_exporter": "python",
   "pygments_lexer": "ipython3",
   "version": "3.9.13"
  }
 },
 "nbformat": 4,
 "nbformat_minor": 5
}
