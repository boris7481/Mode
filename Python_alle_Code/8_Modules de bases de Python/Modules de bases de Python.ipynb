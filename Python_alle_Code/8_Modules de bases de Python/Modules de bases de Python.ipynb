{
 "cells": [
  {
   "cell_type": "markdown",
   "id": "4e0026b6",
   "metadata": {},
   "source": [
    "Python contient un certain nombre de modules intégrés, qui offrent de nombreuses fonctions mathématiques, statistiques, aléatoires et os tres utiles. Pour importer un module, il faut procéder comme-ci dessous :\n",
    "\n",
    "    import module (importe tout le module)\n",
    "    import module as md (donne un surnom au module)\n",
    "    from module import fonction (importe une fonction du module)\n"
   ]
  },
  {
   "cell_type": "code",
   "execution_count": 1,
   "id": "6b08d6f5",
   "metadata": {},
   "outputs": [],
   "source": [
    "import math\n",
    "import statistics\n",
    "import random\n",
    "import os\n",
    "import glob"
   ]
  },
  {
   "cell_type": "markdown",
   "id": "8787ef83",
   "metadata": {},
   "source": [
    "Vous pouvez également créer vos propres modules et les importer dans d'autres projets. Un module n'est en fait qu'un simple fichier.py qui contient des fonctions et des classes"
   ]
  },
  {
   "cell_type": "markdown",
   "id": "e6e2b26d",
   "metadata": {},
   "source": [
    "1. Modules math et statistics\n",
    "\n",
    "les modules math et statistics sont en apparence tres utiles, mais en data science, nous utiliserons leurs équivalents dans le package NUMPY. Il peut néanmoins etre intéressant de voir les fonctions de bases.\n"
   ]
  },
  {
   "cell_type": "code",
   "execution_count": 2,
   "id": "978b80ec",
   "metadata": {},
   "outputs": [
    {
     "name": "stdout",
     "output_type": "stream",
     "text": [
      "3.141592653589793\n",
      "1.0\n"
     ]
    }
   ],
   "source": [
    "print(math.pi)\n",
    "print(math.cos(2*math.pi))"
   ]
  },
  {
   "cell_type": "code",
   "execution_count": 3,
   "id": "973f811a",
   "metadata": {},
   "outputs": [
    {
     "name": "stdout",
     "output_type": "stream",
     "text": [
      "3.6\n",
      "4.3\n"
     ]
    }
   ],
   "source": [
    "liste = [1, 4, 6, 2, 5]\n",
    "\n",
    "print(statistics.mean(liste)) # moyenne de la liste\n",
    "print(statistics.variance(liste)) # variance de la liste"
   ]
  },
  {
   "cell_type": "markdown",
   "id": "3991429f",
   "metadata": {},
   "source": [
    "2. Module Random\n",
    "\n",
    "Le module random est l'un des plus utile de Python. En datascience, nous utiliserons surtout sont équivalent NUMPY"
   ]
  },
  {
   "cell_type": "code",
   "execution_count": 5,
   "id": "300f058b",
   "metadata": {},
   "outputs": [
    {
     "name": "stdout",
     "output_type": "stream",
     "text": [
      "2\n",
      "0.7579544029403025\n",
      "8\n"
     ]
    }
   ],
   "source": [
    "random.seed(0) # fixe le générateur aléatoire pour produire toujours le meme résultat\n",
    "\n",
    "print(random.choice(liste)) # choisit un élément au hasard dans la liste\n",
    "\n",
    "print(random.random()) # génére un nombre aléatoire entre 0 et 1\n",
    "\n",
    "print(random.randint(5, 10)) # génére un nombre entier aléatoire entre 5 et 10"
   ]
  },
  {
   "cell_type": "code",
   "execution_count": 6,
   "id": "a6c48bb7",
   "metadata": {},
   "outputs": [
    {
     "data": {
      "text/plain": [
       "[5, 33, 65, 62, 51, 38, 61, 45, 74, 27]"
      ]
     },
     "execution_count": 6,
     "metadata": {},
     "output_type": "execute_result"
    }
   ],
   "source": [
    "random.sample(range(100), 10) # retourne une liste de 10 nombres aléatoires entre 0 et 100"
   ]
  },
  {
   "cell_type": "code",
   "execution_count": 7,
   "id": "bc3f3c34",
   "metadata": {},
   "outputs": [
    {
     "name": "stdout",
     "output_type": "stream",
     "text": [
      "liste de départ [1, 4, 6, 2, 5]\n",
      "liste mélangée [6, 1, 2, 4, 5]\n"
     ]
    }
   ],
   "source": [
    "print('liste de départ', liste)\n",
    "\n",
    "random.shuffle(liste) #mélange les éléments d'une liste\n",
    "\n",
    "print('liste mélangée', liste)"
   ]
  },
  {
   "cell_type": "markdown",
   "id": "d2a5e685",
   "metadata": {},
   "source": [
    "3. Modules OS et Glob\n",
    "\n",
    "Les modules OS et GLob sont essentiels pour effectuer des opérations sur votre disque dur, comme ouvrir un fichier situé dans un certain répertoire de travail."
   ]
  },
  {
   "cell_type": "code",
   "execution_count": 8,
   "id": "2a9b35d8",
   "metadata": {},
   "outputs": [
    {
     "data": {
      "text/plain": [
       "'C:\\\\Users\\\\boris\\\\OneDrive\\\\Desktop\\\\Python_alle_Code\\\\8_Modules de bases de Python'"
      ]
     },
     "execution_count": 8,
     "metadata": {},
     "output_type": "execute_result"
    }
   ],
   "source": [
    "os.getcwd() # affiche le répertoire de travail actuel"
   ]
  },
  {
   "cell_type": "code",
   "execution_count": 9,
   "id": "b2ca8563",
   "metadata": {},
   "outputs": [
    {
     "name": "stdout",
     "output_type": "stream",
     "text": [
      "['Modules de bases de Python.ipynb']\n"
     ]
    }
   ],
   "source": [
    "print(glob.glob('*')) # contenu du repertoire de travail actuel"
   ]
  },
  {
   "cell_type": "code",
   "execution_count": null,
   "id": "301bb1e2",
   "metadata": {},
   "outputs": [],
   "source": []
  }
 ],
 "metadata": {
  "kernelspec": {
   "display_name": "Python 3 (ipykernel)",
   "language": "python",
   "name": "python3"
  },
  "language_info": {
   "codemirror_mode": {
    "name": "ipython",
    "version": 3
   },
   "file_extension": ".py",
   "mimetype": "text/x-python",
   "name": "python",
   "nbconvert_exporter": "python",
   "pygments_lexer": "ipython3",
   "version": "3.9.13"
  }
 },
 "nbformat": 4,
 "nbformat_minor": 5
}
