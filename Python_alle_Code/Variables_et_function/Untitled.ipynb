{
 "cells": [
  {
   "cell_type": "markdown",
   "id": "75e634dd",
   "metadata": {},
   "source": [
    "\n",
    "1. Variables et Operations\n",
    "\n",
    "Il existe 4 grands types de variables\n",
    "\n",
    "    int (nombre entier)\n",
    "    float (nombre décimal)\n",
    "    string (chaine de characteres)\n",
    "    bool (booléen)\n",
    "\n"
   ]
  },
  {
   "cell_type": "code",
   "execution_count": 1,
   "id": "2cd20fe1",
   "metadata": {},
   "outputs": [],
   "source": [
    "x = 3 # type int \n",
    "y = 2.5 # type float\n",
    "prenom = 'Pierre' # type string\n",
    "z = True # type Bool"
   ]
  },
  {
   "cell_type": "code",
   "execution_count": 2,
   "id": "6c60d499",
   "metadata": {},
   "outputs": [
    {
     "name": "stdout",
     "output_type": "stream",
     "text": [
      "x + y = 5.5\n",
      "x - y = 0.5\n",
      "x / y = 1.2\n",
      "x // y = 1.0\n",
      "x * y = 7.5\n",
      "x ^ y = 15.588457268119896\n"
     ]
    }
   ],
   "source": [
    "# Opérations arithmétiques\n",
    "print('x + y =', x + y)\n",
    "print('x - y =', x - y)\n",
    "print('x / y =', x / y)\n",
    "print('x // y =', x // y) # division entiere (tres utile pour les tableaux Numpy)\n",
    "print('x * y =', x * y)\n",
    "print('x ^ y =', x ** y) # x puissance y"
   ]
  },
  {
   "cell_type": "code",
   "execution_count": 3,
   "id": "ee81dee5",
   "metadata": {},
   "outputs": [
    {
     "name": "stdout",
     "output_type": "stream",
     "text": [
      "égalité : False\n",
      "inégalité : True\n",
      "inférieur ou égal : False\n",
      "supérieur ou égal : True\n"
     ]
    }
   ],
   "source": [
    "# Opérations de comparaison\n",
    "print('égalité :', x == y)\n",
    "print('inégalité :', x != y)\n",
    "print('inférieur ou égal :', x <= y)\n",
    "print('supérieur ou égal :', x >= y)"
   ]
  },
  {
   "cell_type": "code",
   "execution_count": 5,
   "id": "7207913f",
   "metadata": {},
   "outputs": [
    {
     "name": "stdout",
     "output_type": "stream",
     "text": [
      "ET : False\n",
      "OU : True\n",
      "OU exclusif : True\n"
     ]
    }
   ],
   "source": [
    "# Opérations Logiques\n",
    "print('ET :', False and True)\n",
    "print('OU :', False or True)\n",
    "print('OU exclusif :', False ^ True)"
   ]
  },
  {
   "cell_type": "markdown",
   "id": "cd4291cb",
   "metadata": {},
   "source": [
    "Note : Les opérations de comparaison et de logique utilisées ensemble permettent de construire des structures algorithmiques de bases (if/esle, while, ...)"
   ]
  },
  {
   "cell_type": "markdown",
   "id": "fd2aae6d",
   "metadata": {},
   "source": [
    "2. Fonctions\n",
    "\n",
    "Une fonction anonyme est une fonction créée avec lambda. Ce type de fonction est basique et est utile pour etre intégrée au milieu de structures de controles ou bien d'autres fonctions. On l'utilise rarement."
   ]
  },
  {
   "cell_type": "code",
   "execution_count": 7,
   "id": "68963d0e",
   "metadata": {},
   "outputs": [
    {
     "name": "stdout",
     "output_type": "stream",
     "text": [
      "9\n"
     ]
    }
   ],
   "source": [
    "# Exemple d'une fonction f(x) = x^2\n",
    "f = lambda x : x**2\n",
    "\n",
    "print(f(3))"
   ]
  },
  {
   "cell_type": "code",
   "execution_count": 8,
   "id": "b3cb6ce6",
   "metadata": {},
   "outputs": [
    {
     "name": "stdout",
     "output_type": "stream",
     "text": [
      "12\n"
     ]
    }
   ],
   "source": [
    "# Exemple d'une fonction g(x, y) = x^2 - y^2\n",
    "g = lambda x, y : x**2 - y**2\n",
    "\n",
    "print(g(4, 2))"
   ]
  },
  {
   "cell_type": "markdown",
   "id": "0ccfa745",
   "metadata": {},
   "source": [
    "La meilleure facon de créer une fonction est d'utiliser la structure suivante : def"
   ]
  },
  {
   "cell_type": "code",
   "execution_count": 10,
   "id": "8d8139aa",
   "metadata": {},
   "outputs": [
    {
     "data": {
      "text/plain": [
       "5"
      ]
     },
     "execution_count": 10,
     "metadata": {},
     "output_type": "execute_result"
    }
   ],
   "source": [
    "# une fonction a un nom, prend des entrées (arguments) et les transforme pour retourner un résultat\n",
    "\n",
    "def nom_de_la_fonction(parametre_1, parametre_2):\n",
    "   restultat = parametre_1 + parametre_2\n",
    "   return restultat\n",
    "\n",
    "nom_de_la_fonction(3, 2)"
   ]
  },
  {
   "cell_type": "code",
   "execution_count": 12,
   "id": "6e10f56a",
   "metadata": {},
   "outputs": [
    {
     "data": {
      "text/plain": [
       "981.0"
      ]
     },
     "execution_count": 12,
     "metadata": {},
     "output_type": "execute_result"
    }
   ],
   "source": [
    "# Exemple concret : fonction qui calcul l'energie potentielle d'un corps\n",
    "\n",
    "def e_potentielle(masse, hauteur, g=9.81):\n",
    "  energie = masse * hauteur * g \n",
    "  return energie\n",
    "\n",
    "# ici g a une valeur par défaut donc nous ne sommes pas obligé de lui donner une valeur\n",
    "e_potentielle(masse=10, hauteur=10)"
   ]
  },
  {
   "cell_type": "markdown",
   "id": "0ec31092",
   "metadata": {},
   "source": [
    "3. Exercice et Solution\n",
    "\n",
    "Modifiez la fonction e_potentielle définie plus haut pour retourner une valeur indiquant si l'energie calculée est supérieure ou inférieur a une energie_limite passée en tant que 4eme argument"
   ]
  },
  {
   "cell_type": "code",
   "execution_count": 13,
   "id": "33e8f9ef",
   "metadata": {},
   "outputs": [
    {
     "data": {
      "text/plain": [
       "True"
      ]
     },
     "execution_count": 13,
     "metadata": {},
     "output_type": "execute_result"
    }
   ],
   "source": [
    "# Solution :\n",
    "\n",
    "def e_potentielle(masse, hauteur, e_limite, g=9.81):\n",
    "  energie = masse * hauteur * g \n",
    "  return energie > e_limite\n",
    "\n",
    "e_potentielle(masse=10, hauteur=10, e_limite=800)"
   ]
  },
  {
   "cell_type": "code",
   "execution_count": null,
   "id": "4294e0d9",
   "metadata": {},
   "outputs": [],
   "source": []
  }
 ],
 "metadata": {
  "kernelspec": {
   "display_name": "Python 3 (ipykernel)",
   "language": "python",
   "name": "python3"
  },
  "language_info": {
   "codemirror_mode": {
    "name": "ipython",
    "version": 3
   },
   "file_extension": ".py",
   "mimetype": "text/x-python",
   "name": "python",
   "nbconvert_exporter": "python",
   "pygments_lexer": "ipython3",
   "version": "3.9.13"
  }
 },
 "nbformat": 4,
 "nbformat_minor": 5
}
