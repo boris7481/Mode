{
 "cells": [
  {
   "cell_type": "markdown",
   "id": "39fbe7ee",
   "metadata": {},
   "source": [
    "Les dictionnaires sont des structures de controle non-ordonnées, c'est-a-dire que les valeurs qu'ils contiennent ne sont pas rangée selon un index, mais suivant une clef unique.\n",
    "\n",
    "Une utilisation parfaite des dictionnaires est pour regrouper ensemble des \"variables\" dans un meme conténaire. (ces variables ne sont pas de vraies variables, mais des keys).\n",
    "\n",
    "On peut par exemple crée un dictionnaire inventaire qui regroupe plusieurs produits (les clefs) et leur quantités (les valeurs)"
   ]
  },
  {
   "cell_type": "code",
   "execution_count": 1,
   "id": "3977a68c",
   "metadata": {},
   "outputs": [],
   "source": [
    "inventaire = {'pommes': 100,\n",
    "              'bananes': 80,\n",
    "              'poires': 120}"
   ]
  },
  {
   "cell_type": "code",
   "execution_count": 2,
   "id": "d2c9fe9f",
   "metadata": {},
   "outputs": [
    {
     "data": {
      "text/plain": [
       "dict_values([100, 80, 120])"
      ]
     },
     "execution_count": 2,
     "metadata": {},
     "output_type": "execute_result"
    }
   ],
   "source": [
    "inventaire.values()"
   ]
  },
  {
   "cell_type": "code",
   "execution_count": 3,
   "id": "9bda7ce6",
   "metadata": {},
   "outputs": [
    {
     "data": {
      "text/plain": [
       "dict_keys(['pommes', 'bananes', 'poires'])"
      ]
     },
     "execution_count": 3,
     "metadata": {},
     "output_type": "execute_result"
    }
   ],
   "source": [
    "inventaire.keys()"
   ]
  },
  {
   "cell_type": "code",
   "execution_count": 4,
   "id": "eb6a047a",
   "metadata": {},
   "outputs": [
    {
     "data": {
      "text/plain": [
       "3"
      ]
     },
     "execution_count": 4,
     "metadata": {},
     "output_type": "execute_result"
    }
   ],
   "source": [
    "len(inventaire)"
   ]
  },
  {
   "cell_type": "markdown",
   "id": "0bb656dc",
   "metadata": {},
   "source": [
    "Voici comment ajouter une association key/value dans notre dictionnaire (attention si la clef existe déja elle est remplacée)"
   ]
  },
  {
   "cell_type": "code",
   "execution_count": 6,
   "id": "2d970fe6",
   "metadata": {},
   "outputs": [
    {
     "name": "stdout",
     "output_type": "stream",
     "text": [
      "{'pommes': 100, 'bananes': 80, 'poires': 120, 'abricots': 30}\n"
     ]
    }
   ],
   "source": [
    "inventaire['abricots'] = 30\n",
    "print(inventaire)"
   ]
  },
  {
   "cell_type": "markdown",
   "id": "30246252",
   "metadata": {},
   "source": [
    "Attention : si vous cherchez une clef qui n'existe pas dans un dictionnaire, python vous retourne une erreur. Pour éviter cela, vous pouvez utiliser la méthode get()"
   ]
  },
  {
   "cell_type": "code",
   "execution_count": 7,
   "id": "efba6573",
   "metadata": {},
   "outputs": [],
   "source": [
    "inventaire.get('peches') # n'existe pas"
   ]
  },
  {
   "cell_type": "code",
   "execution_count": 8,
   "id": "43af7ff6",
   "metadata": {},
   "outputs": [
    {
     "data": {
      "text/plain": [
       "100"
      ]
     },
     "execution_count": 8,
     "metadata": {},
     "output_type": "execute_result"
    }
   ],
   "source": [
    "inventaire.get('pommes') # pomme existe"
   ]
  },
  {
   "cell_type": "markdown",
   "id": "a105d1c0",
   "metadata": {},
   "source": [
    "la méthode pop() permet de retirer une clef d'un dictionnaire tout en retournant la valeur associée a la clef."
   ]
  },
  {
   "cell_type": "code",
   "execution_count": 9,
   "id": "7b15213e",
   "metadata": {},
   "outputs": [
    {
     "name": "stdout",
     "output_type": "stream",
     "text": [
      "{'pommes': 100, 'bananes': 80, 'poires': 120}\n",
      "30\n"
     ]
    }
   ],
   "source": [
    "abricots = inventaire.pop(\"abricots\")\n",
    "print(inventaire) # ne contient plus de clef abricots\n",
    "print(abricots) # abricots contient la valeur du dictionnaire"
   ]
  },
  {
   "cell_type": "markdown",
   "id": "177948a4",
   "metadata": {},
   "source": [
    "Pour utiliser une boucle for avec un dictionnaire, il est utile d'utiliser la méthode items() qui retourne a la fois les clefs et les valeurs"
   ]
  },
  {
   "cell_type": "markdown",
   "id": "d8772eb6",
   "metadata": {},
   "source": [
    "Pour utiliser une boucle for avec un dictionnaire, il est utile d'utiliser la méthode items() qui retourne a la fois les clefs et les valeurs"
   ]
  },
  {
   "cell_type": "code",
   "execution_count": 11,
   "id": "d8cf580b",
   "metadata": {},
   "outputs": [
    {
     "name": "stdout",
     "output_type": "stream",
     "text": [
      "pommes 100\n",
      "bananes 80\n",
      "poires 120\n"
     ]
    }
   ],
   "source": [
    "for key, value in inventaire.items():\n",
    "  print(key, value)"
   ]
  },
  {
   "cell_type": "markdown",
   "id": "e0af7872",
   "metadata": {},
   "source": [
    "Exercice et Solution\n",
    "\n",
    "Implémentez une fonction trier(classeur, valeur) qui place une valeur dans un dictionnaire en fonction de son signe"
   ]
  },
  {
   "cell_type": "code",
   "execution_count": 14,
   "id": "e1c55073",
   "metadata": {},
   "outputs": [],
   "source": [
    "classeur = {'négatifs':[],\n",
    "            'positifs':[]\n",
    "            }\n",
    "\n",
    "def trier(classeur, valeur):\n",
    "  return classeur"
   ]
  },
  {
   "cell_type": "code",
   "execution_count": 15,
   "id": "b0a854d6",
   "metadata": {},
   "outputs": [],
   "source": [
    "# SOLUTION\n",
    "\n",
    "def trier(classeur, valeur):\n",
    "  if valeur >=0:\n",
    "    classeur['positifs'].append(valeur)\n",
    "  else:\n",
    "    classeur['négatifs'].append(valeur)\n",
    "  return classeur"
   ]
  },
  {
   "cell_type": "code",
   "execution_count": 16,
   "id": "75db9718",
   "metadata": {},
   "outputs": [
    {
     "data": {
      "text/plain": [
       "{'négatifs': [], 'positifs': [9]}"
      ]
     },
     "execution_count": 16,
     "metadata": {},
     "output_type": "execute_result"
    }
   ],
   "source": [
    "trier(classeur, 9)"
   ]
  },
  {
   "cell_type": "code",
   "execution_count": null,
   "id": "13ec9f85",
   "metadata": {},
   "outputs": [],
   "source": []
  }
 ],
 "metadata": {
  "kernelspec": {
   "display_name": "Python 3 (ipykernel)",
   "language": "python",
   "name": "python3"
  },
  "language_info": {
   "codemirror_mode": {
    "name": "ipython",
    "version": 3
   },
   "file_extension": ".py",
   "mimetype": "text/x-python",
   "name": "python",
   "nbconvert_exporter": "python",
   "pygments_lexer": "ipython3",
   "version": "3.9.13"
  }
 },
 "nbformat": 4,
 "nbformat_minor": 5
}
