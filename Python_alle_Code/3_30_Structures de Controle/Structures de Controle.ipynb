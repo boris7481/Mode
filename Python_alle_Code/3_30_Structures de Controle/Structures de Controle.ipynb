{
 "cells": [
  {
   "cell_type": "markdown",
   "id": "275ba95d",
   "metadata": {},
   "source": [
    " Dans le monde de la programmation, il existe trois principales structures de controle pour créer des algorithmes.\n",
    "\n",
    "    Les alternatives If / Else\n",
    "    Les boucles For\n",
    "    Les boucles While"
   ]
  },
  {
   "cell_type": "markdown",
   "id": "e6ce56c0",
   "metadata": {},
   "source": [
    "1. Alternatives If / Else :\n",
    "\n",
    "Cette structure permet de tester une séquence d'alternatives. Si une condition est respéctée, alors les instructions qui la suivent sont executée et la structure de controle est stopée, sinon la condition suivante est testée."
   ]
  },
  {
   "cell_type": "code",
   "execution_count": 8,
   "id": "016c3012",
   "metadata": {},
   "outputs": [],
   "source": [
    "def test_du_signe(valeur):\n",
    "  if valeur < 0:\n",
    "    print('négatif')\n",
    "  elif valeur == 0:\n",
    "    print('nul')\n",
    "  else:\n",
    "    print('positif')"
   ]
  },
  {
   "cell_type": "code",
   "execution_count": 9,
   "id": "ffe05d08",
   "metadata": {},
   "outputs": [
    {
     "name": "stdout",
     "output_type": "stream",
     "text": [
      "négatif\n"
     ]
    }
   ],
   "source": [
    "test_du_signe(-2)"
   ]
  },
  {
   "cell_type": "markdown",
   "id": "ed0939f5",
   "metadata": {},
   "source": [
    "Note importante : Une condition est respectée si et seulement si elle correspond au résultat booléen True."
   ]
  },
  {
   "cell_type": "code",
   "execution_count": 11,
   "id": "bda72a5d",
   "metadata": {},
   "outputs": [
    {
     "name": "stdout",
     "output_type": "stream",
     "text": [
      "True\n",
      "négatif\n"
     ]
    }
   ],
   "source": [
    "valeur = -2\n",
    "print(valeur < 0) # le résultat de cette comparaison est True\n",
    "\n",
    "if valeur < 0:\n",
    "  print('négatif')"
   ]
  },
  {
   "cell_type": "markdown",
   "id": "a8f16e0a",
   "metadata": {},
   "source": [
    "Cela permet de développer des algorithmes avec des mélanges d'opéations Logiques et d'opérations de comparaisons. Par exemple : si il fait beau et qu'il faut chaud, alors j'irai me baigner"
   ]
  },
  {
   "cell_type": "code",
   "execution_count": 12,
   "id": "910f2e0d",
   "metadata": {},
   "outputs": [
    {
     "name": "stdout",
     "output_type": "stream",
     "text": [
      "x et y ne sont pas tous les 2 positifs\n"
     ]
    }
   ],
   "source": [
    "x = 3\n",
    "y = -1\n",
    "if (x>0) and (y>0):\n",
    "  print('x et y sont positifs')\n",
    "else:\n",
    "  print('x et y ne sont pas tous les 2 positifs')"
   ]
  },
  {
   "cell_type": "markdown",
   "id": "04f6a39c",
   "metadata": {},
   "source": [
    "2. Boucle For\n",
    "\n",
    "Une boucle for permet de créer des algorithmes itératifs (qui effectuent une certaine tache plusieurs fois de suite). Pour ca, la boucle parcourt tous les éléments d'un objet dit itérable. Il peut s'agir d'une liste, d'un dictionnaire, d'un range, d'un tableau numpy, ou de bien d'autres objets..."
   ]
  },
  {
   "cell_type": "code",
   "execution_count": 13,
   "id": "70b53dda",
   "metadata": {},
   "outputs": [
    {
     "name": "stdout",
     "output_type": "stream",
     "text": [
      "0\n",
      "1\n",
      "2\n",
      "3\n",
      "4\n",
      "5\n",
      "6\n",
      "7\n",
      "8\n",
      "9\n"
     ]
    }
   ],
   "source": [
    "# range(début, fin, pas) est une built-in fonction tres utile de python qui retourne un itérable.\n",
    "for i in range(0, 10):\n",
    "  print(i)"
   ]
  },
  {
   "cell_type": "code",
   "execution_count": 14,
   "id": "306e6aed",
   "metadata": {},
   "outputs": [
    {
     "name": "stdout",
     "output_type": "stream",
     "text": [
      "-10\n",
      "négatif\n",
      "-8\n",
      "négatif\n",
      "-6\n",
      "négatif\n",
      "-4\n",
      "négatif\n",
      "-2\n",
      "négatif\n",
      "0\n",
      "nul\n",
      "2\n",
      "positif\n",
      "4\n",
      "positif\n",
      "6\n",
      "positif\n",
      "8\n",
      "positif\n"
     ]
    }
   ],
   "source": [
    "# on peut s'amuser a combiner cette boucle avec notre fonction de tout a l'heure.\n",
    "for i in range(-10, 10, 2):\n",
    "  print(i)\n",
    "  test_du_signe(i)"
   ]
  },
  {
   "cell_type": "markdown",
   "id": "15b0bd9c",
   "metadata": {},
   "source": [
    "3. Boucle While\n",
    "\n",
    "Une boucle While permet d'effectuer en boucle une action, tant que la condition d'execution est validée (tant que la condition est True)"
   ]
  },
  {
   "cell_type": "code",
   "execution_count": 15,
   "id": "afb7350b",
   "metadata": {},
   "outputs": [
    {
     "name": "stdout",
     "output_type": "stream",
     "text": [
      "0\n",
      "1\n",
      "2\n",
      "3\n",
      "4\n",
      "5\n",
      "6\n",
      "7\n",
      "8\n",
      "9\n"
     ]
    }
   ],
   "source": [
    "x = 0\n",
    "while x < 10:\n",
    "  print(x)\n",
    "  x += 1 # incrémente x de 1 (équivalent de x = x+1)"
   ]
  },
  {
   "cell_type": "markdown",
   "id": "fe72d39b",
   "metadata": {},
   "source": [
    "4. Exercice et Solution\n",
    "\n",
    "Implémentez la suite de Fibonacci [0, 1, 1, 2, 3, 5, 8, 13, 21, ...] qui part de 2 nombres a=0 et b=1, et qui calcule le nombre suivant en additionnant les 2 nombres précédents.\n",
    "\n",
    "Indices :\n",
    "\n",
    "    Pour cet exercice vous aurez besoin d'une bouce While\n",
    "    Vous pouvez imprimer cette suite jusqu'a atteindre un nombre n que vous aurez choisit\n",
    "    dans python il est possible de mettre a jour 2 variables simultannément sur la meme lignes : a, b = b, a+b"
   ]
  },
  {
   "cell_type": "code",
   "execution_count": 16,
   "id": "e3630e14",
   "metadata": {},
   "outputs": [
    {
     "name": "stdout",
     "output_type": "stream",
     "text": [
      "1\n",
      "1\n",
      "2\n",
      "3\n",
      "5\n",
      "8\n",
      "13\n",
      "21\n",
      "34\n",
      "55\n",
      "89\n",
      "144\n",
      "233\n",
      "377\n",
      "610\n",
      "987\n"
     ]
    }
   ],
   "source": [
    "# Solution\n",
    "\n",
    "def fibonacci(n):\n",
    "    # retourne une liste contenant la suite de fibonacci jusqu'a n\n",
    "    a = 0\n",
    "    b = 1\n",
    "    while b < n:\n",
    "      a, b = b, a+b\n",
    "      print(a)\n",
    "\n",
    "fibonacci(1000)"
   ]
  },
  {
   "cell_type": "code",
   "execution_count": null,
   "id": "afaf8c84",
   "metadata": {},
   "outputs": [],
   "source": []
  }
 ],
 "metadata": {
  "kernelspec": {
   "display_name": "Python 3 (ipykernel)",
   "language": "python",
   "name": "python3"
  },
  "language_info": {
   "codemirror_mode": {
    "name": "ipython",
    "version": 3
   },
   "file_extension": ".py",
   "mimetype": "text/x-python",
   "name": "python",
   "nbconvert_exporter": "python",
   "pygments_lexer": "ipython3",
   "version": "3.9.13"
  }
 },
 "nbformat": 4,
 "nbformat_minor": 5
}
