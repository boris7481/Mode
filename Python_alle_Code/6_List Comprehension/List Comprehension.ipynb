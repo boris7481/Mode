{
 "cells": [
  {
   "cell_type": "markdown",
   "id": "e23c34ce",
   "metadata": {},
   "source": [
    "Les listes comprehension sont une facon habile de créer des listes sur une seule ligne de code, ce qui rend le code beaucoup plus rapide (car python est un langage assez lent)\n",
    "\n",
    "Les deux code ci-dessous effectuent chacun la meme opération. On peut voir (grace a la commande %%time) que le temps d'execution avec liste comprehenion est bien inférieur au temps d'execution avec la méthode append()"
   ]
  },
  {
   "cell_type": "code",
   "execution_count": 2,
   "id": "bad0702c",
   "metadata": {},
   "outputs": [
    {
     "name": "stdout",
     "output_type": "stream",
     "text": [
      "Wall time: 46.9 ms\n"
     ]
    }
   ],
   "source": [
    "%%time\n",
    "liste = []\n",
    "for i in range(100000):\n",
    "  liste.append(i**2)"
   ]
  },
  {
   "cell_type": "code",
   "execution_count": 3,
   "id": "4f759b4c",
   "metadata": {},
   "outputs": [
    {
     "name": "stdout",
     "output_type": "stream",
     "text": [
      "Wall time: 47.4 ms\n"
     ]
    }
   ],
   "source": [
    "%%time\n",
    "liste = [i**2 for i in range(100000)]"
   ]
  },
  {
   "cell_type": "markdown",
   "id": "ba462946",
   "metadata": {},
   "source": [
    "On peut rajouter des conditions if dans les listes comprehension, par exemple :"
   ]
  },
  {
   "cell_type": "code",
   "execution_count": 4,
   "id": "917620a3",
   "metadata": {},
   "outputs": [
    {
     "name": "stdout",
     "output_type": "stream",
     "text": [
      "[0, 4, 16, 36, 64, 100, 144, 196, 256, 324]\n"
     ]
    }
   ],
   "source": [
    "liste = [i**2 for i in range(100000) if (i % 2) == 0] # calcule i**2 seulement pour les nombres pairs.\n",
    "\n",
    "print(liste[:10]) #affiche les 10 premiers éléments de la liste"
   ]
  },
  {
   "cell_type": "markdown",
   "id": "8c5d3f8d",
   "metadata": {},
   "source": [
    "Exercice et solution\n",
    "\n",
    "Le meme principe s'applique aux dictionnaires ! Essayez-donc de créer un dictionnaire qui contienne des clefs de 1 a 20, avec comme valeur le carré de chaque clef"
   ]
  },
  {
   "cell_type": "code",
   "execution_count": 6,
   "id": "9b740181",
   "metadata": {},
   "outputs": [
    {
     "name": "stdout",
     "output_type": "stream",
     "text": [
      "{1: 1, 2: 4, 3: 9, 4: 16, 5: 25, 6: 36, 7: 49, 8: 64, 9: 81, 10: 100, 11: 121, 12: 144, 13: 169, 14: 196, 15: 225, 16: 256, 17: 289, 18: 324, 19: 361, 20: 400}\n"
     ]
    }
   ],
   "source": [
    "# SOLUTION\n",
    "\n",
    "dictionnaire = {k : k**2 for k in range(1, 21)}\n",
    "\n",
    "print(dictionnaire)"
   ]
  },
  {
   "cell_type": "code",
   "execution_count": null,
   "id": "6d6c6296",
   "metadata": {},
   "outputs": [],
   "source": []
  }
 ],
 "metadata": {
  "kernelspec": {
   "display_name": "Python 3 (ipykernel)",
   "language": "python",
   "name": "python3"
  },
  "language_info": {
   "codemirror_mode": {
    "name": "ipython",
    "version": 3
   },
   "file_extension": ".py",
   "mimetype": "text/x-python",
   "name": "python",
   "nbconvert_exporter": "python",
   "pygments_lexer": "ipython3",
   "version": "3.9.13"
  }
 },
 "nbformat": 4,
 "nbformat_minor": 5
}
