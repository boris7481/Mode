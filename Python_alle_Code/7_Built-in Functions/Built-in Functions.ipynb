{
 "cells": [
  {
   "cell_type": "markdown",
   "id": "16e1179d",
   "metadata": {},
   "source": [
    "Python contient un grand nombre de fonctions intégrées tres utiles a connaitre. Cela vous permet de construire des codes plus rapidement, sans avoir a développer vos propres fonctions pour les taches les plus basique. Dans ce notebook, je vous montre les plus importantes :\n",
    "\n",
    "    Fonctions de bases : abs(), round(), max(), min(), len(), sum(), any(), all()\n",
    "    Conversions de types de variables: int() str(), float(), type()\n",
    "    Conversions de structures de données: list(), tuple()\n",
    "    Conversions binaires (moins utile en machine learning): bin(), oct(), hex()\n",
    "    Fonction input()\n",
    "    Fonction format() (f-string)\n",
    "    Fonction open()\n"
   ]
  },
  {
   "cell_type": "markdown",
   "id": "c6838d74",
   "metadata": {},
   "source": [
    "1. Fonction de bases\n",
    "\n",
    "Utiles en toute circonstance !"
   ]
  },
  {
   "cell_type": "code",
   "execution_count": 2,
   "id": "ed32d0bf",
   "metadata": {},
   "outputs": [
    {
     "name": "stdout",
     "output_type": "stream",
     "text": [
      "3.14\n",
      "-3\n"
     ]
    }
   ],
   "source": [
    "x = -3.14\n",
    "print(abs(x)) # valeur absolue\n",
    "print(round(x)) # arrondi"
   ]
  },
  {
   "cell_type": "code",
   "execution_count": 4,
   "id": "89f87efc",
   "metadata": {},
   "outputs": [
    {
     "name": "stdout",
     "output_type": "stream",
     "text": [
      "-4\n",
      "3\n",
      "5\n",
      "-2\n"
     ]
    }
   ],
   "source": [
    "liste = [-2, 3, 1, 0, -4]\n",
    "\n",
    "print(min(liste)) # minimum\n",
    "print(max(liste)) # maximum\n",
    "print(len(liste)) # longueur\n",
    "print(sum(liste)) # somme des éléments"
   ]
  },
  {
   "cell_type": "code",
   "execution_count": 5,
   "id": "fea339cf",
   "metadata": {},
   "outputs": [
    {
     "name": "stdout",
     "output_type": "stream",
     "text": [
      "True\n",
      "False\n"
     ]
    }
   ],
   "source": [
    "liste = [False, False, True]\n",
    "\n",
    "print(any(liste)) # y-a-t'il au moins un élément True ?\n",
    "print(all(liste)) # est-ce-que tous les éléments sont True ?"
   ]
  },
  {
   "cell_type": "markdown",
   "id": "a892ea11",
   "metadata": {},
   "source": [
    "2. Fonction de conversion\n",
    "\n",
    "Il peut etre tres utile de convertir une variable d'un type a un autre (par exemple pour faire des calculs). Pour cela, on dispose des fonctions int(), str() et float().\n",
    "\n",
    "La fonction type() est tres utile pour inspecter les types de nos variables"
   ]
  },
  {
   "cell_type": "code",
   "execution_count": 7,
   "id": "4807cafd",
   "metadata": {},
   "outputs": [
    {
     "data": {
      "text/plain": [
       "str"
      ]
     },
     "execution_count": 7,
     "metadata": {},
     "output_type": "execute_result"
    }
   ],
   "source": [
    "age = '32'\n",
    "type(age)"
   ]
  },
  {
   "cell_type": "code",
   "execution_count": 8,
   "id": "6c668341",
   "metadata": {},
   "outputs": [
    {
     "data": {
      "text/plain": [
       "int"
      ]
     },
     "execution_count": 8,
     "metadata": {},
     "output_type": "execute_result"
    }
   ],
   "source": [
    "age = int(age)\n",
    "type(age)"
   ]
  },
  {
   "cell_type": "code",
   "execution_count": 9,
   "id": "10feafda",
   "metadata": {},
   "outputs": [
    {
     "data": {
      "text/plain": [
       "42"
      ]
     },
     "execution_count": 9,
     "metadata": {},
     "output_type": "execute_result"
    }
   ],
   "source": [
    "age + 10"
   ]
  },
  {
   "cell_type": "markdown",
   "id": "0c26a99c",
   "metadata": {},
   "source": [
    "On peut également convertir des listes en tuples, ou des tableaux Numpy (que l'on verra par la suite) en liste..."
   ]
  },
  {
   "cell_type": "code",
   "execution_count": 10,
   "id": "89ee9a4e",
   "metadata": {},
   "outputs": [
    {
     "data": {
      "text/plain": [
       "list"
      ]
     },
     "execution_count": 10,
     "metadata": {},
     "output_type": "execute_result"
    }
   ],
   "source": [
    "tuple_1 = (1, 2, 3, 4)\n",
    "\n",
    "liste_1 = list(tuple_1) # convertir un tuple en liste\n",
    "\n",
    "type(liste_1)"
   ]
  },
  {
   "cell_type": "markdown",
   "id": "1a461d32",
   "metadata": {},
   "source": [
    "3. La fonction input()\n",
    "\n",
    "Cette fonction est tres utile pour demander a l'utilisateur du programme d'entrer une valeur dans votre programme"
   ]
  },
  {
   "cell_type": "code",
   "execution_count": 12,
   "id": "aa1a80c2",
   "metadata": {},
   "outputs": [
    {
     "name": "stdout",
     "output_type": "stream",
     "text": [
      "quel age avez-vous ?: 20\n"
     ]
    }
   ],
   "source": [
    "age = input('quel age avez-vous ?: ')"
   ]
  },
  {
   "cell_type": "code",
   "execution_count": 13,
   "id": "74c7279c",
   "metadata": {},
   "outputs": [
    {
     "data": {
      "text/plain": [
       "str"
      ]
     },
     "execution_count": 13,
     "metadata": {},
     "output_type": "execute_result"
    }
   ],
   "source": [
    "type(age) # age est de type string. il faut penser a le convertir si on désire faire un calcul avec"
   ]
  },
  {
   "cell_type": "markdown",
   "id": "5cbeeb2b",
   "metadata": {},
   "source": [
    "4. La fonction format()\n",
    "\n",
    "cette fonction permet d'insérer la valeur d'une variable au sein d'une chaine de cacacteres (string).\n",
    "\n",
    "Une méthode plus rapide pour utiliser cette fonction est de faire appel au f-string"
   ]
  },
  {
   "cell_type": "code",
   "execution_count": 14,
   "id": "cf609f06",
   "metadata": {},
   "outputs": [
    {
     "name": "stdout",
     "output_type": "stream",
     "text": [
      "il fait 25 degrés a Paris\n"
     ]
    }
   ],
   "source": [
    "x = 25\n",
    "ville = 'Paris'\n",
    "\n",
    "message = 'il fait {} degrés a {}'.format(x, ville)\n",
    "print(message)"
   ]
  },
  {
   "cell_type": "code",
   "execution_count": 15,
   "id": "c62b9a68",
   "metadata": {},
   "outputs": [
    {
     "name": "stdout",
     "output_type": "stream",
     "text": [
      "il fait 25 degrées a Paris\n"
     ]
    }
   ],
   "source": [
    "message = f'il fait {x} degrées a {ville}'\n",
    "print(message)"
   ]
  },
  {
   "cell_type": "markdown",
   "id": "10bdd910",
   "metadata": {},
   "source": [
    "5. La fonction open()\n",
    "\n",
    "Cette fonction est l'une des plus utile de Python. Elle permet d'ouvrir n'importe quel fichier de votre ordinateur et de l'utiliser dans Python. Différents modes existent :\n",
    "\n",
    "    le mode 'r' : lire un fichier de votre ordinateur\n",
    "    le mode 'w' : écrire un fichier sur votre ordinateur\n",
    "    le mode 'a' : (append) ajouter du contenu dans un fichier existant"
   ]
  },
  {
   "cell_type": "code",
   "execution_count": 16,
   "id": "68b3233d",
   "metadata": {},
   "outputs": [],
   "source": [
    "f = open('text.txt', 'w') # ouverture d'un objet fichier f\n",
    "f.write('hello')\n",
    "f.close() # il faut fermer notre fichier une fois le travail terminé"
   ]
  },
  {
   "cell_type": "code",
   "execution_count": 17,
   "id": "30daed21",
   "metadata": {},
   "outputs": [
    {
     "name": "stdout",
     "output_type": "stream",
     "text": [
      "hello\n"
     ]
    }
   ],
   "source": [
    "f = open('text.txt', 'r')\n",
    "print(f.read())\n",
    "f.close() "
   ]
  },
  {
   "cell_type": "markdown",
   "id": "c67792c4",
   "metadata": {},
   "source": [
    "Dans la pratique, on écrit plus souvent with open() as f pour ne pas avoir a fermer le fichier une fois le travail effectué :"
   ]
  },
  {
   "cell_type": "code",
   "execution_count": 19,
   "id": "af1babb2",
   "metadata": {},
   "outputs": [
    {
     "name": "stdout",
     "output_type": "stream",
     "text": [
      "hello\n"
     ]
    }
   ],
   "source": [
    "with open('text.txt', 'r') as f:\n",
    "    print(f.read())"
   ]
  },
  {
   "cell_type": "markdown",
   "id": "76e3f17a",
   "metadata": {},
   "source": [
    "6. Exercice et Solution\n",
    "\n",
    "Le code ci-dessous permet de créer un fichier qui contient les nombres carrée de 0 jusqu'a 19. L'exercice est d'implémenter un code qui permet de lire ce fichier et d'écrire chaque ligne dans une liste.\n",
    "\n",
    "Note_1 : la fonction read().splitlines() sera tres utile\n",
    "\n",
    "Note_2 : Pour un meilleur résultat, essayer d'utiliser une liste comprehension !"
   ]
  },
  {
   "cell_type": "code",
   "execution_count": 20,
   "id": "507c40e5",
   "metadata": {},
   "outputs": [],
   "source": [
    "# Ce bout de code permet d'écrire le fichier \n",
    "with open('fichier.txt', 'w') as f:\n",
    "    for i in range(0, 20):\n",
    "        f.write(f'{i}: {i**2} \\n')\n",
    "    f.close()\n",
    "\n",
    "# Écrivez ici le code pour lire le fichier et enregistrer chaque lignes dans une liste."
   ]
  },
  {
   "cell_type": "code",
   "execution_count": 21,
   "id": "8cb8dc13",
   "metadata": {},
   "outputs": [
    {
     "data": {
      "text/plain": [
       "['0: 0 ',\n",
       " '1: 1 ',\n",
       " '2: 4 ',\n",
       " '3: 9 ',\n",
       " '4: 16 ',\n",
       " '5: 25 ',\n",
       " '6: 36 ',\n",
       " '7: 49 ',\n",
       " '8: 64 ',\n",
       " '9: 81 ',\n",
       " '10: 100 ',\n",
       " '11: 121 ',\n",
       " '12: 144 ',\n",
       " '13: 169 ',\n",
       " '14: 196 ',\n",
       " '15: 225 ',\n",
       " '16: 256 ',\n",
       " '17: 289 ',\n",
       " '18: 324 ',\n",
       " '19: 361 ']"
      ]
     },
     "execution_count": 21,
     "metadata": {},
     "output_type": "execute_result"
    }
   ],
   "source": [
    "# SOLUTION (non optimale)\n",
    "with open('fichier.txt','r') as f:\n",
    "    liste = f.read().splitlines()\n",
    "\n",
    "liste"
   ]
  },
  {
   "cell_type": "code",
   "execution_count": 22,
   "id": "162de932",
   "metadata": {},
   "outputs": [
    {
     "data": {
      "text/plain": [
       "['0: 0',\n",
       " '1: 1',\n",
       " '2: 4',\n",
       " '3: 9',\n",
       " '4: 16',\n",
       " '5: 25',\n",
       " '6: 36',\n",
       " '7: 49',\n",
       " '8: 64',\n",
       " '9: 81',\n",
       " '10: 100',\n",
       " '11: 121',\n",
       " '12: 144',\n",
       " '13: 169',\n",
       " '14: 196',\n",
       " '15: 225',\n",
       " '16: 256',\n",
       " '17: 289',\n",
       " '18: 324',\n",
       " '19: 361']"
      ]
     },
     "execution_count": 22,
     "metadata": {},
     "output_type": "execute_result"
    }
   ],
   "source": [
    "# SOLUTION (Améliorée)\n",
    "# Une meilleure facon de procéder est d'utiliser une liste comprehension !\n",
    "\n",
    "liste = [row.strip() for row in open('fichier.txt','r')]\n",
    "liste"
   ]
  },
  {
   "cell_type": "code",
   "execution_count": null,
   "id": "a0447d52",
   "metadata": {},
   "outputs": [],
   "source": []
  }
 ],
 "metadata": {
  "kernelspec": {
   "display_name": "Python 3 (ipykernel)",
   "language": "python",
   "name": "python3"
  },
  "language_info": {
   "codemirror_mode": {
    "name": "ipython",
    "version": 3
   },
   "file_extension": ".py",
   "mimetype": "text/x-python",
   "name": "python",
   "nbconvert_exporter": "python",
   "pygments_lexer": "ipython3",
   "version": "3.9.13"
  }
 },
 "nbformat": 4,
 "nbformat_minor": 5
}
